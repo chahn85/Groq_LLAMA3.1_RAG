{
  "cells": [
    {
      "cell_type": "code",
      "execution_count": null,
      "id": "892671f6-e1fb-4305-bb7e-14b4376fe233",
      "metadata": {
        "id": "892671f6-e1fb-4305-bb7e-14b4376fe233",
        "outputId": "1a0a2b55-a375-4d43-e3fd-ed2be7554a58",
        "colab": {
          "base_uri": "https://localhost:8080/"
        }
      },
      "outputs": [
        {
          "output_type": "stream",
          "name": "stdout",
          "text": [
            "Requirement already satisfied: chromadb==0.5.5 in /usr/local/lib/python3.10/dist-packages (0.5.5)\n",
            "Requirement already satisfied: langchain-chroma==0.1.2 in /usr/local/lib/python3.10/dist-packages (0.1.2)\n",
            "Requirement already satisfied: langchain==0.2.11 in /usr/local/lib/python3.10/dist-packages (0.2.11)\n",
            "Requirement already satisfied: langchain-community==0.2.10 in /usr/local/lib/python3.10/dist-packages (0.2.10)\n",
            "Requirement already satisfied: langchain-text-splitters==0.2.2 in /usr/local/lib/python3.10/dist-packages (0.2.2)\n",
            "Requirement already satisfied: langchain-groq==0.1.6 in /usr/local/lib/python3.10/dist-packages (0.1.6)\n",
            "Requirement already satisfied: transformers==4.43.2 in /usr/local/lib/python3.10/dist-packages (4.43.2)\n",
            "Requirement already satisfied: sentence-transformers==3.0.1 in /usr/local/lib/python3.10/dist-packages (3.0.1)\n",
            "Requirement already satisfied: unstructured==0.15.0 in /usr/local/lib/python3.10/dist-packages (0.15.0)\n",
            "Requirement already satisfied: build>=1.0.3 in /usr/local/lib/python3.10/dist-packages (from chromadb==0.5.5) (1.2.1)\n",
            "Requirement already satisfied: pydantic>=1.9 in /usr/local/lib/python3.10/dist-packages (from chromadb==0.5.5) (2.8.2)\n",
            "Requirement already satisfied: chroma-hnswlib==0.7.6 in /usr/local/lib/python3.10/dist-packages (from chromadb==0.5.5) (0.7.6)\n",
            "Requirement already satisfied: fastapi>=0.95.2 in /usr/local/lib/python3.10/dist-packages (from chromadb==0.5.5) (0.112.1)\n",
            "Requirement already satisfied: uvicorn>=0.18.3 in /usr/local/lib/python3.10/dist-packages (from uvicorn[standard]>=0.18.3->chromadb==0.5.5) (0.30.6)\n",
            "Requirement already satisfied: numpy<2.0.0,>=1.22.5 in /usr/local/lib/python3.10/dist-packages (from chromadb==0.5.5) (1.26.4)\n",
            "Requirement already satisfied: posthog>=2.4.0 in /usr/local/lib/python3.10/dist-packages (from chromadb==0.5.5) (3.5.2)\n",
            "Requirement already satisfied: typing-extensions>=4.5.0 in /usr/local/lib/python3.10/dist-packages (from chromadb==0.5.5) (4.12.2)\n",
            "Requirement already satisfied: onnxruntime>=1.14.1 in /usr/local/lib/python3.10/dist-packages (from chromadb==0.5.5) (1.19.0)\n",
            "Requirement already satisfied: opentelemetry-api>=1.2.0 in /usr/local/lib/python3.10/dist-packages (from chromadb==0.5.5) (1.26.0)\n",
            "Requirement already satisfied: opentelemetry-exporter-otlp-proto-grpc>=1.2.0 in /usr/local/lib/python3.10/dist-packages (from chromadb==0.5.5) (1.26.0)\n",
            "Requirement already satisfied: opentelemetry-instrumentation-fastapi>=0.41b0 in /usr/local/lib/python3.10/dist-packages (from chromadb==0.5.5) (0.47b0)\n",
            "Requirement already satisfied: opentelemetry-sdk>=1.2.0 in /usr/local/lib/python3.10/dist-packages (from chromadb==0.5.5) (1.26.0)\n",
            "Requirement already satisfied: tokenizers>=0.13.2 in /usr/local/lib/python3.10/dist-packages (from chromadb==0.5.5) (0.19.1)\n",
            "Requirement already satisfied: pypika>=0.48.9 in /usr/local/lib/python3.10/dist-packages (from chromadb==0.5.5) (0.48.9)\n",
            "Requirement already satisfied: tqdm>=4.65.0 in /usr/local/lib/python3.10/dist-packages (from chromadb==0.5.5) (4.66.5)\n",
            "Requirement already satisfied: overrides>=7.3.1 in /usr/local/lib/python3.10/dist-packages (from chromadb==0.5.5) (7.7.0)\n",
            "Requirement already satisfied: importlib-resources in /usr/local/lib/python3.10/dist-packages (from chromadb==0.5.5) (6.4.3)\n",
            "Requirement already satisfied: grpcio>=1.58.0 in /usr/local/lib/python3.10/dist-packages (from chromadb==0.5.5) (1.64.1)\n",
            "Requirement already satisfied: bcrypt>=4.0.1 in /usr/local/lib/python3.10/dist-packages (from chromadb==0.5.5) (4.2.0)\n",
            "Requirement already satisfied: typer>=0.9.0 in /usr/local/lib/python3.10/dist-packages (from chromadb==0.5.5) (0.12.4)\n",
            "Requirement already satisfied: kubernetes>=28.1.0 in /usr/local/lib/python3.10/dist-packages (from chromadb==0.5.5) (30.1.0)\n",
            "Requirement already satisfied: tenacity>=8.2.3 in /usr/local/lib/python3.10/dist-packages (from chromadb==0.5.5) (8.5.0)\n",
            "Requirement already satisfied: PyYAML>=6.0.0 in /usr/local/lib/python3.10/dist-packages (from chromadb==0.5.5) (6.0.2)\n",
            "Requirement already satisfied: mmh3>=4.0.1 in /usr/local/lib/python3.10/dist-packages (from chromadb==0.5.5) (4.1.0)\n",
            "Requirement already satisfied: orjson>=3.9.12 in /usr/local/lib/python3.10/dist-packages (from chromadb==0.5.5) (3.10.7)\n",
            "Requirement already satisfied: httpx>=0.27.0 in /usr/local/lib/python3.10/dist-packages (from chromadb==0.5.5) (0.27.0)\n",
            "Requirement already satisfied: langchain-core<0.3,>=0.1.40 in /usr/local/lib/python3.10/dist-packages (from langchain-chroma==0.1.2) (0.2.34)\n",
            "Requirement already satisfied: SQLAlchemy<3,>=1.4 in /usr/local/lib/python3.10/dist-packages (from langchain==0.2.11) (2.0.32)\n",
            "Requirement already satisfied: aiohttp<4.0.0,>=3.8.3 in /usr/local/lib/python3.10/dist-packages (from langchain==0.2.11) (3.10.5)\n",
            "Requirement already satisfied: async-timeout<5.0.0,>=4.0.0 in /usr/local/lib/python3.10/dist-packages (from langchain==0.2.11) (4.0.3)\n",
            "Requirement already satisfied: langsmith<0.2.0,>=0.1.17 in /usr/local/lib/python3.10/dist-packages (from langchain==0.2.11) (0.1.104)\n",
            "Requirement already satisfied: requests<3,>=2 in /usr/local/lib/python3.10/dist-packages (from langchain==0.2.11) (2.32.3)\n",
            "Requirement already satisfied: dataclasses-json<0.7,>=0.5.7 in /usr/local/lib/python3.10/dist-packages (from langchain-community==0.2.10) (0.6.7)\n",
            "Requirement already satisfied: groq<1,>=0.4.1 in /usr/local/lib/python3.10/dist-packages (from langchain-groq==0.1.6) (0.9.0)\n",
            "Requirement already satisfied: filelock in /usr/local/lib/python3.10/dist-packages (from transformers==4.43.2) (3.15.4)\n",
            "Requirement already satisfied: huggingface-hub<1.0,>=0.23.2 in /usr/local/lib/python3.10/dist-packages (from transformers==4.43.2) (0.23.5)\n",
            "Requirement already satisfied: packaging>=20.0 in /usr/local/lib/python3.10/dist-packages (from transformers==4.43.2) (24.1)\n",
            "Requirement already satisfied: regex!=2019.12.17 in /usr/local/lib/python3.10/dist-packages (from transformers==4.43.2) (2024.5.15)\n",
            "Requirement already satisfied: safetensors>=0.4.1 in /usr/local/lib/python3.10/dist-packages (from transformers==4.43.2) (0.4.4)\n",
            "Requirement already satisfied: torch>=1.11.0 in /usr/local/lib/python3.10/dist-packages (from sentence-transformers==3.0.1) (2.3.1+cu121)\n",
            "Requirement already satisfied: scikit-learn in /usr/local/lib/python3.10/dist-packages (from sentence-transformers==3.0.1) (1.3.2)\n",
            "Requirement already satisfied: scipy in /usr/local/lib/python3.10/dist-packages (from sentence-transformers==3.0.1) (1.13.1)\n",
            "Requirement already satisfied: Pillow in /usr/local/lib/python3.10/dist-packages (from sentence-transformers==3.0.1) (10.4.0)\n",
            "Requirement already satisfied: chardet in /usr/local/lib/python3.10/dist-packages (from unstructured==0.15.0) (5.2.0)\n",
            "Requirement already satisfied: filetype in /usr/local/lib/python3.10/dist-packages (from unstructured==0.15.0) (1.2.0)\n",
            "Requirement already satisfied: python-magic in /usr/local/lib/python3.10/dist-packages (from unstructured==0.15.0) (0.4.27)\n",
            "Requirement already satisfied: lxml in /usr/local/lib/python3.10/dist-packages (from unstructured==0.15.0) (4.9.4)\n",
            "Requirement already satisfied: nltk in /usr/local/lib/python3.10/dist-packages (from unstructured==0.15.0) (3.8.1)\n",
            "Requirement already satisfied: tabulate in /usr/local/lib/python3.10/dist-packages (from unstructured==0.15.0) (0.9.0)\n",
            "Requirement already satisfied: beautifulsoup4 in /usr/local/lib/python3.10/dist-packages (from unstructured==0.15.0) (4.12.3)\n",
            "Requirement already satisfied: emoji in /usr/local/lib/python3.10/dist-packages (from unstructured==0.15.0) (2.12.1)\n",
            "Requirement already satisfied: python-iso639 in /usr/local/lib/python3.10/dist-packages (from unstructured==0.15.0) (2024.4.27)\n",
            "Requirement already satisfied: langdetect in /usr/local/lib/python3.10/dist-packages (from unstructured==0.15.0) (1.0.9)\n",
            "Requirement already satisfied: rapidfuzz in /usr/local/lib/python3.10/dist-packages (from unstructured==0.15.0) (3.9.6)\n",
            "Requirement already satisfied: backoff in /usr/local/lib/python3.10/dist-packages (from unstructured==0.15.0) (2.2.1)\n",
            "Requirement already satisfied: unstructured-client in /usr/local/lib/python3.10/dist-packages (from unstructured==0.15.0) (0.25.5)\n",
            "Requirement already satisfied: wrapt in /usr/local/lib/python3.10/dist-packages (from unstructured==0.15.0) (1.16.0)\n",
            "Requirement already satisfied: psutil in /usr/local/lib/python3.10/dist-packages (from unstructured==0.15.0) (5.9.5)\n",
            "Requirement already satisfied: onnx in /usr/local/lib/python3.10/dist-packages (from unstructured[pdf]==0.15.0) (1.16.2)\n",
            "Requirement already satisfied: pdf2image in /usr/local/lib/python3.10/dist-packages (from unstructured[pdf]==0.15.0) (1.17.0)\n",
            "Requirement already satisfied: pdfminer.six in /usr/local/lib/python3.10/dist-packages (from unstructured[pdf]==0.15.0) (20231228)\n",
            "Requirement already satisfied: pikepdf in /usr/local/lib/python3.10/dist-packages (from unstructured[pdf]==0.15.0) (9.2.0)\n",
            "Requirement already satisfied: pillow-heif in /usr/local/lib/python3.10/dist-packages (from unstructured[pdf]==0.15.0) (0.18.0)\n",
            "Requirement already satisfied: pypdf in /usr/local/lib/python3.10/dist-packages (from unstructured[pdf]==0.15.0) (4.3.1)\n",
            "Requirement already satisfied: pytesseract in /usr/local/lib/python3.10/dist-packages (from unstructured[pdf]==0.15.0) (0.3.13)\n",
            "Requirement already satisfied: google-cloud-vision in /usr/local/lib/python3.10/dist-packages (from unstructured[pdf]==0.15.0) (3.7.4)\n",
            "Requirement already satisfied: effdet in /usr/local/lib/python3.10/dist-packages (from unstructured[pdf]==0.15.0) (0.4.1)\n",
            "Requirement already satisfied: unstructured-inference==0.7.36 in /usr/local/lib/python3.10/dist-packages (from unstructured[pdf]==0.15.0) (0.7.36)\n",
            "Requirement already satisfied: unstructured.pytesseract>=0.3.12 in /usr/local/lib/python3.10/dist-packages (from unstructured[pdf]==0.15.0) (0.3.13)\n",
            "Requirement already satisfied: layoutparser in /usr/local/lib/python3.10/dist-packages (from unstructured-inference==0.7.36->unstructured[pdf]==0.15.0) (0.3.4)\n",
            "Requirement already satisfied: python-multipart in /usr/local/lib/python3.10/dist-packages (from unstructured-inference==0.7.36->unstructured[pdf]==0.15.0) (0.0.9)\n",
            "Requirement already satisfied: opencv-python!=4.7.0.68 in /usr/local/lib/python3.10/dist-packages (from unstructured-inference==0.7.36->unstructured[pdf]==0.15.0) (4.10.0.84)\n",
            "Requirement already satisfied: matplotlib in /usr/local/lib/python3.10/dist-packages (from unstructured-inference==0.7.36->unstructured[pdf]==0.15.0) (3.7.1)\n",
            "Requirement already satisfied: timm in /usr/local/lib/python3.10/dist-packages (from unstructured-inference==0.7.36->unstructured[pdf]==0.15.0) (1.0.8)\n",
            "Requirement already satisfied: aiohappyeyeballs>=2.3.0 in /usr/local/lib/python3.10/dist-packages (from aiohttp<4.0.0,>=3.8.3->langchain==0.2.11) (2.4.0)\n",
            "Requirement already satisfied: aiosignal>=1.1.2 in /usr/local/lib/python3.10/dist-packages (from aiohttp<4.0.0,>=3.8.3->langchain==0.2.11) (1.3.1)\n",
            "Requirement already satisfied: attrs>=17.3.0 in /usr/local/lib/python3.10/dist-packages (from aiohttp<4.0.0,>=3.8.3->langchain==0.2.11) (24.2.0)\n",
            "Requirement already satisfied: frozenlist>=1.1.1 in /usr/local/lib/python3.10/dist-packages (from aiohttp<4.0.0,>=3.8.3->langchain==0.2.11) (1.4.1)\n",
            "Requirement already satisfied: multidict<7.0,>=4.5 in /usr/local/lib/python3.10/dist-packages (from aiohttp<4.0.0,>=3.8.3->langchain==0.2.11) (6.0.5)\n",
            "Requirement already satisfied: yarl<2.0,>=1.0 in /usr/local/lib/python3.10/dist-packages (from aiohttp<4.0.0,>=3.8.3->langchain==0.2.11) (1.9.4)\n",
            "Requirement already satisfied: pyproject_hooks in /usr/local/lib/python3.10/dist-packages (from build>=1.0.3->chromadb==0.5.5) (1.1.0)\n",
            "Requirement already satisfied: tomli>=1.1.0 in /usr/local/lib/python3.10/dist-packages (from build>=1.0.3->chromadb==0.5.5) (2.0.1)\n",
            "Requirement already satisfied: marshmallow<4.0.0,>=3.18.0 in /usr/local/lib/python3.10/dist-packages (from dataclasses-json<0.7,>=0.5.7->langchain-community==0.2.10) (3.22.0)\n",
            "Requirement already satisfied: typing-inspect<1,>=0.4.0 in /usr/local/lib/python3.10/dist-packages (from dataclasses-json<0.7,>=0.5.7->langchain-community==0.2.10) (0.9.0)\n",
            "Requirement already satisfied: starlette<0.39.0,>=0.37.2 in /usr/local/lib/python3.10/dist-packages (from fastapi>=0.95.2->chromadb==0.5.5) (0.38.2)\n",
            "Requirement already satisfied: anyio<5,>=3.5.0 in /usr/local/lib/python3.10/dist-packages (from groq<1,>=0.4.1->langchain-groq==0.1.6) (3.7.1)\n",
            "Requirement already satisfied: distro<2,>=1.7.0 in /usr/lib/python3/dist-packages (from groq<1,>=0.4.1->langchain-groq==0.1.6) (1.7.0)\n",
            "Requirement already satisfied: sniffio in /usr/local/lib/python3.10/dist-packages (from groq<1,>=0.4.1->langchain-groq==0.1.6) (1.3.1)\n",
            "Requirement already satisfied: certifi in /usr/local/lib/python3.10/dist-packages (from httpx>=0.27.0->chromadb==0.5.5) (2024.7.4)\n",
            "Requirement already satisfied: httpcore==1.* in /usr/local/lib/python3.10/dist-packages (from httpx>=0.27.0->chromadb==0.5.5) (1.0.5)\n",
            "Requirement already satisfied: idna in /usr/local/lib/python3.10/dist-packages (from httpx>=0.27.0->chromadb==0.5.5) (3.7)\n",
            "Requirement already satisfied: h11<0.15,>=0.13 in /usr/local/lib/python3.10/dist-packages (from httpcore==1.*->httpx>=0.27.0->chromadb==0.5.5) (0.14.0)\n",
            "Requirement already satisfied: fsspec>=2023.5.0 in /usr/local/lib/python3.10/dist-packages (from huggingface-hub<1.0,>=0.23.2->transformers==4.43.2) (2024.6.1)\n",
            "Requirement already satisfied: six>=1.9.0 in /usr/local/lib/python3.10/dist-packages (from kubernetes>=28.1.0->chromadb==0.5.5) (1.16.0)\n",
            "Requirement already satisfied: python-dateutil>=2.5.3 in /usr/local/lib/python3.10/dist-packages (from kubernetes>=28.1.0->chromadb==0.5.5) (2.8.2)\n",
            "Requirement already satisfied: google-auth>=1.0.1 in /usr/local/lib/python3.10/dist-packages (from kubernetes>=28.1.0->chromadb==0.5.5) (2.27.0)\n",
            "Requirement already satisfied: websocket-client!=0.40.0,!=0.41.*,!=0.42.*,>=0.32.0 in /usr/local/lib/python3.10/dist-packages (from kubernetes>=28.1.0->chromadb==0.5.5) (1.8.0)\n",
            "Requirement already satisfied: requests-oauthlib in /usr/local/lib/python3.10/dist-packages (from kubernetes>=28.1.0->chromadb==0.5.5) (1.3.1)\n",
            "Requirement already satisfied: oauthlib>=3.2.2 in /usr/local/lib/python3.10/dist-packages (from kubernetes>=28.1.0->chromadb==0.5.5) (3.2.2)\n",
            "Requirement already satisfied: urllib3>=1.24.2 in /usr/local/lib/python3.10/dist-packages (from kubernetes>=28.1.0->chromadb==0.5.5) (2.0.7)\n",
            "Requirement already satisfied: jsonpatch<2.0,>=1.33 in /usr/local/lib/python3.10/dist-packages (from langchain-core<0.3,>=0.1.40->langchain-chroma==0.1.2) (1.33)\n",
            "Requirement already satisfied: coloredlogs in /usr/local/lib/python3.10/dist-packages (from onnxruntime>=1.14.1->chromadb==0.5.5) (15.0.1)\n",
            "Requirement already satisfied: flatbuffers in /usr/local/lib/python3.10/dist-packages (from onnxruntime>=1.14.1->chromadb==0.5.5) (24.3.25)\n",
            "Requirement already satisfied: protobuf in /usr/local/lib/python3.10/dist-packages (from onnxruntime>=1.14.1->chromadb==0.5.5) (3.20.3)\n",
            "Requirement already satisfied: sympy in /usr/local/lib/python3.10/dist-packages (from onnxruntime>=1.14.1->chromadb==0.5.5) (1.13.2)\n",
            "Requirement already satisfied: deprecated>=1.2.6 in /usr/local/lib/python3.10/dist-packages (from opentelemetry-api>=1.2.0->chromadb==0.5.5) (1.2.14)\n",
            "Requirement already satisfied: importlib-metadata<=8.0.0,>=6.0 in /usr/local/lib/python3.10/dist-packages (from opentelemetry-api>=1.2.0->chromadb==0.5.5) (8.0.0)\n",
            "Requirement already satisfied: googleapis-common-protos~=1.52 in /usr/local/lib/python3.10/dist-packages (from opentelemetry-exporter-otlp-proto-grpc>=1.2.0->chromadb==0.5.5) (1.63.2)\n",
            "Requirement already satisfied: opentelemetry-exporter-otlp-proto-common==1.26.0 in /usr/local/lib/python3.10/dist-packages (from opentelemetry-exporter-otlp-proto-grpc>=1.2.0->chromadb==0.5.5) (1.26.0)\n",
            "Requirement already satisfied: opentelemetry-proto==1.26.0 in /usr/local/lib/python3.10/dist-packages (from opentelemetry-exporter-otlp-proto-grpc>=1.2.0->chromadb==0.5.5) (1.26.0)\n",
            "Requirement already satisfied: opentelemetry-instrumentation-asgi==0.47b0 in /usr/local/lib/python3.10/dist-packages (from opentelemetry-instrumentation-fastapi>=0.41b0->chromadb==0.5.5) (0.47b0)\n",
            "Requirement already satisfied: opentelemetry-instrumentation==0.47b0 in /usr/local/lib/python3.10/dist-packages (from opentelemetry-instrumentation-fastapi>=0.41b0->chromadb==0.5.5) (0.47b0)\n",
            "Requirement already satisfied: opentelemetry-semantic-conventions==0.47b0 in /usr/local/lib/python3.10/dist-packages (from opentelemetry-instrumentation-fastapi>=0.41b0->chromadb==0.5.5) (0.47b0)\n",
            "Requirement already satisfied: opentelemetry-util-http==0.47b0 in /usr/local/lib/python3.10/dist-packages (from opentelemetry-instrumentation-fastapi>=0.41b0->chromadb==0.5.5) (0.47b0)\n",
            "Requirement already satisfied: setuptools>=16.0 in /usr/local/lib/python3.10/dist-packages (from opentelemetry-instrumentation==0.47b0->opentelemetry-instrumentation-fastapi>=0.41b0->chromadb==0.5.5) (71.0.4)\n",
            "Requirement already satisfied: asgiref~=3.0 in /usr/local/lib/python3.10/dist-packages (from opentelemetry-instrumentation-asgi==0.47b0->opentelemetry-instrumentation-fastapi>=0.41b0->chromadb==0.5.5) (3.8.1)\n",
            "Requirement already satisfied: monotonic>=1.5 in /usr/local/lib/python3.10/dist-packages (from posthog>=2.4.0->chromadb==0.5.5) (1.6)\n",
            "Requirement already satisfied: annotated-types>=0.4.0 in /usr/local/lib/python3.10/dist-packages (from pydantic>=1.9->chromadb==0.5.5) (0.7.0)\n",
            "Requirement already satisfied: pydantic-core==2.20.1 in /usr/local/lib/python3.10/dist-packages (from pydantic>=1.9->chromadb==0.5.5) (2.20.1)\n",
            "Requirement already satisfied: charset-normalizer<4,>=2 in /usr/local/lib/python3.10/dist-packages (from requests<3,>=2->langchain==0.2.11) (3.3.2)\n",
            "Requirement already satisfied: greenlet!=0.4.17 in /usr/local/lib/python3.10/dist-packages (from SQLAlchemy<3,>=1.4->langchain==0.2.11) (3.0.3)\n",
            "Requirement already satisfied: networkx in /usr/local/lib/python3.10/dist-packages (from torch>=1.11.0->sentence-transformers==3.0.1) (3.3)\n",
            "Requirement already satisfied: jinja2 in /usr/local/lib/python3.10/dist-packages (from torch>=1.11.0->sentence-transformers==3.0.1) (3.1.4)\n",
            "Requirement already satisfied: nvidia-cuda-nvrtc-cu12==12.1.105 in /usr/local/lib/python3.10/dist-packages (from torch>=1.11.0->sentence-transformers==3.0.1) (12.1.105)\n",
            "Requirement already satisfied: nvidia-cuda-runtime-cu12==12.1.105 in /usr/local/lib/python3.10/dist-packages (from torch>=1.11.0->sentence-transformers==3.0.1) (12.1.105)\n",
            "Requirement already satisfied: nvidia-cuda-cupti-cu12==12.1.105 in /usr/local/lib/python3.10/dist-packages (from torch>=1.11.0->sentence-transformers==3.0.1) (12.1.105)\n",
            "Requirement already satisfied: nvidia-cudnn-cu12==8.9.2.26 in /usr/local/lib/python3.10/dist-packages (from torch>=1.11.0->sentence-transformers==3.0.1) (8.9.2.26)\n",
            "Requirement already satisfied: nvidia-cublas-cu12==12.1.3.1 in /usr/local/lib/python3.10/dist-packages (from torch>=1.11.0->sentence-transformers==3.0.1) (12.1.3.1)\n",
            "Requirement already satisfied: nvidia-cufft-cu12==11.0.2.54 in /usr/local/lib/python3.10/dist-packages (from torch>=1.11.0->sentence-transformers==3.0.1) (11.0.2.54)\n",
            "Requirement already satisfied: nvidia-curand-cu12==10.3.2.106 in /usr/local/lib/python3.10/dist-packages (from torch>=1.11.0->sentence-transformers==3.0.1) (10.3.2.106)\n",
            "Requirement already satisfied: nvidia-cusolver-cu12==11.4.5.107 in /usr/local/lib/python3.10/dist-packages (from torch>=1.11.0->sentence-transformers==3.0.1) (11.4.5.107)\n",
            "Requirement already satisfied: nvidia-cusparse-cu12==12.1.0.106 in /usr/local/lib/python3.10/dist-packages (from torch>=1.11.0->sentence-transformers==3.0.1) (12.1.0.106)\n",
            "Requirement already satisfied: nvidia-nccl-cu12==2.20.5 in /usr/local/lib/python3.10/dist-packages (from torch>=1.11.0->sentence-transformers==3.0.1) (2.20.5)\n",
            "Requirement already satisfied: nvidia-nvtx-cu12==12.1.105 in /usr/local/lib/python3.10/dist-packages (from torch>=1.11.0->sentence-transformers==3.0.1) (12.1.105)\n",
            "Requirement already satisfied: triton==2.3.1 in /usr/local/lib/python3.10/dist-packages (from torch>=1.11.0->sentence-transformers==3.0.1) (2.3.1)\n",
            "Requirement already satisfied: nvidia-nvjitlink-cu12 in /usr/local/lib/python3.10/dist-packages (from nvidia-cusolver-cu12==11.4.5.107->torch>=1.11.0->sentence-transformers==3.0.1) (12.6.20)\n",
            "Requirement already satisfied: click>=8.0.0 in /usr/local/lib/python3.10/dist-packages (from typer>=0.9.0->chromadb==0.5.5) (8.1.7)\n",
            "Requirement already satisfied: shellingham>=1.3.0 in /usr/local/lib/python3.10/dist-packages (from typer>=0.9.0->chromadb==0.5.5) (1.5.4)\n",
            "Requirement already satisfied: rich>=10.11.0 in /usr/local/lib/python3.10/dist-packages (from typer>=0.9.0->chromadb==0.5.5) (13.7.1)\n",
            "Requirement already satisfied: httptools>=0.5.0 in /usr/local/lib/python3.10/dist-packages (from uvicorn[standard]>=0.18.3->chromadb==0.5.5) (0.6.1)\n",
            "Requirement already satisfied: python-dotenv>=0.13 in /usr/local/lib/python3.10/dist-packages (from uvicorn[standard]>=0.18.3->chromadb==0.5.5) (1.0.1)\n",
            "Requirement already satisfied: uvloop!=0.15.0,!=0.15.1,>=0.14.0 in /usr/local/lib/python3.10/dist-packages (from uvicorn[standard]>=0.18.3->chromadb==0.5.5) (0.20.0)\n",
            "Requirement already satisfied: watchfiles>=0.13 in /usr/local/lib/python3.10/dist-packages (from uvicorn[standard]>=0.18.3->chromadb==0.5.5) (0.23.0)\n",
            "Requirement already satisfied: websockets>=10.4 in /usr/local/lib/python3.10/dist-packages (from uvicorn[standard]>=0.18.3->chromadb==0.5.5) (13.0)\n",
            "Requirement already satisfied: soupsieve>1.2 in /usr/local/lib/python3.10/dist-packages (from beautifulsoup4->unstructured==0.15.0) (2.6)\n",
            "Requirement already satisfied: torchvision in /usr/local/lib/python3.10/dist-packages (from effdet->unstructured[pdf]==0.15.0) (0.18.1+cu121)\n",
            "Requirement already satisfied: pycocotools>=2.0.2 in /usr/local/lib/python3.10/dist-packages (from effdet->unstructured[pdf]==0.15.0) (2.0.8)\n",
            "Requirement already satisfied: omegaconf>=2.0 in /usr/local/lib/python3.10/dist-packages (from effdet->unstructured[pdf]==0.15.0) (2.3.0)\n",
            "Requirement already satisfied: google-api-core!=2.0.*,!=2.1.*,!=2.10.*,!=2.2.*,!=2.3.*,!=2.4.*,!=2.5.*,!=2.6.*,!=2.7.*,!=2.8.*,!=2.9.*,<3.0.0dev,>=1.34.1 in /usr/local/lib/python3.10/dist-packages (from google-api-core[grpc]!=2.0.*,!=2.1.*,!=2.10.*,!=2.2.*,!=2.3.*,!=2.4.*,!=2.5.*,!=2.6.*,!=2.7.*,!=2.8.*,!=2.9.*,<3.0.0dev,>=1.34.1->google-cloud-vision->unstructured[pdf]==0.15.0) (2.19.1)\n",
            "Requirement already satisfied: proto-plus<2.0.0dev,>=1.22.3 in /usr/local/lib/python3.10/dist-packages (from google-cloud-vision->unstructured[pdf]==0.15.0) (1.24.0)\n",
            "Requirement already satisfied: joblib in /usr/local/lib/python3.10/dist-packages (from nltk->unstructured==0.15.0) (1.4.2)\n",
            "Requirement already satisfied: cryptography>=36.0.0 in /usr/local/lib/python3.10/dist-packages (from pdfminer.six->unstructured[pdf]==0.15.0) (43.0.0)\n",
            "Requirement already satisfied: threadpoolctl>=2.0.0 in /usr/local/lib/python3.10/dist-packages (from scikit-learn->sentence-transformers==3.0.1) (3.5.0)\n",
            "Requirement already satisfied: deepdiff>=6.0 in /usr/local/lib/python3.10/dist-packages (from unstructured-client->unstructured==0.15.0) (7.0.1)\n",
            "Requirement already satisfied: jsonpath-python>=1.0.6 in /usr/local/lib/python3.10/dist-packages (from unstructured-client->unstructured==0.15.0) (1.0.6)\n",
            "Requirement already satisfied: mypy-extensions>=1.0.0 in /usr/local/lib/python3.10/dist-packages (from unstructured-client->unstructured==0.15.0) (1.0.0)\n",
            "Requirement already satisfied: nest-asyncio>=1.6.0 in /usr/local/lib/python3.10/dist-packages (from unstructured-client->unstructured==0.15.0) (1.6.0)\n",
            "Requirement already satisfied: requests-toolbelt>=1.0.0 in /usr/local/lib/python3.10/dist-packages (from unstructured-client->unstructured==0.15.0) (1.0.0)\n",
            "Requirement already satisfied: exceptiongroup in /usr/local/lib/python3.10/dist-packages (from anyio<5,>=3.5.0->groq<1,>=0.4.1->langchain-groq==0.1.6) (1.2.2)\n",
            "Requirement already satisfied: cffi>=1.12 in /usr/local/lib/python3.10/dist-packages (from cryptography>=36.0.0->pdfminer.six->unstructured[pdf]==0.15.0) (1.17.0)\n",
            "Requirement already satisfied: ordered-set<4.2.0,>=4.1.0 in /usr/local/lib/python3.10/dist-packages (from deepdiff>=6.0->unstructured-client->unstructured==0.15.0) (4.1.0)\n",
            "Requirement already satisfied: grpcio-status<2.0.dev0,>=1.33.2 in /usr/local/lib/python3.10/dist-packages (from google-api-core[grpc]!=2.0.*,!=2.1.*,!=2.10.*,!=2.2.*,!=2.3.*,!=2.4.*,!=2.5.*,!=2.6.*,!=2.7.*,!=2.8.*,!=2.9.*,<3.0.0dev,>=1.34.1->google-cloud-vision->unstructured[pdf]==0.15.0) (1.48.2)\n",
            "Requirement already satisfied: cachetools<6.0,>=2.0.0 in /usr/local/lib/python3.10/dist-packages (from google-auth>=1.0.1->kubernetes>=28.1.0->chromadb==0.5.5) (5.5.0)\n",
            "Requirement already satisfied: pyasn1-modules>=0.2.1 in /usr/local/lib/python3.10/dist-packages (from google-auth>=1.0.1->kubernetes>=28.1.0->chromadb==0.5.5) (0.4.0)\n",
            "Requirement already satisfied: rsa<5,>=3.1.4 in /usr/local/lib/python3.10/dist-packages (from google-auth>=1.0.1->kubernetes>=28.1.0->chromadb==0.5.5) (4.9)\n",
            "Requirement already satisfied: zipp>=0.5 in /usr/local/lib/python3.10/dist-packages (from importlib-metadata<=8.0.0,>=6.0->opentelemetry-api>=1.2.0->chromadb==0.5.5) (3.20.0)\n",
            "Requirement already satisfied: jsonpointer>=1.9 in /usr/local/lib/python3.10/dist-packages (from jsonpatch<2.0,>=1.33->langchain-core<0.3,>=0.1.40->langchain-chroma==0.1.2) (3.0.0)\n",
            "Requirement already satisfied: antlr4-python3-runtime==4.9.* in /usr/local/lib/python3.10/dist-packages (from omegaconf>=2.0->effdet->unstructured[pdf]==0.15.0) (4.9.3)\n",
            "Requirement already satisfied: contourpy>=1.0.1 in /usr/local/lib/python3.10/dist-packages (from matplotlib->unstructured-inference==0.7.36->unstructured[pdf]==0.15.0) (1.2.1)\n",
            "Requirement already satisfied: cycler>=0.10 in /usr/local/lib/python3.10/dist-packages (from matplotlib->unstructured-inference==0.7.36->unstructured[pdf]==0.15.0) (0.12.1)\n",
            "Requirement already satisfied: fonttools>=4.22.0 in /usr/local/lib/python3.10/dist-packages (from matplotlib->unstructured-inference==0.7.36->unstructured[pdf]==0.15.0) (4.53.1)\n",
            "Requirement already satisfied: kiwisolver>=1.0.1 in /usr/local/lib/python3.10/dist-packages (from matplotlib->unstructured-inference==0.7.36->unstructured[pdf]==0.15.0) (1.4.5)\n",
            "Requirement already satisfied: pyparsing>=2.3.1 in /usr/local/lib/python3.10/dist-packages (from matplotlib->unstructured-inference==0.7.36->unstructured[pdf]==0.15.0) (3.1.2)\n",
            "Requirement already satisfied: markdown-it-py>=2.2.0 in /usr/local/lib/python3.10/dist-packages (from rich>=10.11.0->typer>=0.9.0->chromadb==0.5.5) (3.0.0)\n",
            "Requirement already satisfied: pygments<3.0.0,>=2.13.0 in /usr/local/lib/python3.10/dist-packages (from rich>=10.11.0->typer>=0.9.0->chromadb==0.5.5) (2.16.1)\n",
            "Requirement already satisfied: humanfriendly>=9.1 in /usr/local/lib/python3.10/dist-packages (from coloredlogs->onnxruntime>=1.14.1->chromadb==0.5.5) (10.0)\n",
            "Requirement already satisfied: MarkupSafe>=2.0 in /usr/local/lib/python3.10/dist-packages (from jinja2->torch>=1.11.0->sentence-transformers==3.0.1) (2.1.5)\n",
            "Requirement already satisfied: pandas in /usr/local/lib/python3.10/dist-packages (from layoutparser->unstructured-inference==0.7.36->unstructured[pdf]==0.15.0) (2.1.4)\n",
            "Requirement already satisfied: iopath in /usr/local/lib/python3.10/dist-packages (from layoutparser->unstructured-inference==0.7.36->unstructured[pdf]==0.15.0) (0.1.10)\n",
            "Requirement already satisfied: pdfplumber in /usr/local/lib/python3.10/dist-packages (from layoutparser->unstructured-inference==0.7.36->unstructured[pdf]==0.15.0) (0.11.4)\n",
            "Requirement already satisfied: mpmath<1.4,>=1.1.0 in /usr/local/lib/python3.10/dist-packages (from sympy->onnxruntime>=1.14.1->chromadb==0.5.5) (1.3.0)\n",
            "Requirement already satisfied: pycparser in /usr/local/lib/python3.10/dist-packages (from cffi>=1.12->cryptography>=36.0.0->pdfminer.six->unstructured[pdf]==0.15.0) (2.22)\n",
            "Requirement already satisfied: mdurl~=0.1 in /usr/local/lib/python3.10/dist-packages (from markdown-it-py>=2.2.0->rich>=10.11.0->typer>=0.9.0->chromadb==0.5.5) (0.1.2)\n",
            "Requirement already satisfied: pyasn1<0.7.0,>=0.4.6 in /usr/local/lib/python3.10/dist-packages (from pyasn1-modules>=0.2.1->google-auth>=1.0.1->kubernetes>=28.1.0->chromadb==0.5.5) (0.6.0)\n",
            "Requirement already satisfied: portalocker in /usr/local/lib/python3.10/dist-packages (from iopath->layoutparser->unstructured-inference==0.7.36->unstructured[pdf]==0.15.0) (2.10.1)\n",
            "Requirement already satisfied: pytz>=2020.1 in /usr/local/lib/python3.10/dist-packages (from pandas->layoutparser->unstructured-inference==0.7.36->unstructured[pdf]==0.15.0) (2024.1)\n",
            "Requirement already satisfied: tzdata>=2022.1 in /usr/local/lib/python3.10/dist-packages (from pandas->layoutparser->unstructured-inference==0.7.36->unstructured[pdf]==0.15.0) (2024.1)\n",
            "Requirement already satisfied: pypdfium2>=4.18.0 in /usr/local/lib/python3.10/dist-packages (from pdfplumber->layoutparser->unstructured-inference==0.7.36->unstructured[pdf]==0.15.0) (4.30.0)\n"
          ]
        }
      ],
      "source": [
        "!pip install chromadb==0.5.5 langchain-chroma==0.1.2 langchain==0.2.11 langchain-community==0.2.10 langchain-text-splitters==0.2.2 langchain-groq==0.1.6 transformers==4.43.2 sentence-transformers==3.0.1 unstructured==0.15.0 unstructured[pdf]==0.15.0"
      ]
    },
    {
      "cell_type": "code",
      "execution_count": null,
      "id": "74e64d74-9e15-4f9a-8e01-e0ed23e9e248",
      "metadata": {
        "id": "74e64d74-9e15-4f9a-8e01-e0ed23e9e248"
      },
      "outputs": [],
      "source": [
        "import os\n",
        "from langchain_community.document_loaders import DirectoryLoader\n",
        "from langchain_community.document_loaders import PyPDFLoader\n",
        "from langchain_text_splitters import CharacterTextSplitter\n",
        "from langchain_community.embeddings import HuggingFaceEmbeddings\n",
        "from langchain_chroma import Chroma\n",
        "from langchain_groq import ChatGroq\n",
        "from langchain.chains import RetrievalQA\n",
        "from langchain.prompts import PromptTemplate\n"
      ]
    },
    {
      "cell_type": "code",
      "execution_count": null,
      "id": "0c450678-9b60-4ffb-ab30-9e145b8d1c5b",
      "metadata": {
        "id": "0c450678-9b60-4ffb-ab30-9e145b8d1c5b"
      },
      "outputs": [],
      "source": [
        "os.environ[\"GROQ_API_KEY\"] = \"\""
      ]
    },
    {
      "cell_type": "code",
      "execution_count": null,
      "id": "7dce9e16-8fb0-4502-b99e-1e160068c746",
      "metadata": {
        "id": "7dce9e16-8fb0-4502-b99e-1e160068c746"
      },
      "outputs": [],
      "source": [
        "loader = DirectoryLoader('/content/drive/MyDrive/Mayo_LT', glob=\"**/*.pdf\", loader_cls=PyPDFLoader)\n",
        "documents = loader.load()"
      ]
    },
    {
      "cell_type": "code",
      "execution_count": null,
      "id": "33865f05-7f3e-465a-9702-e0da708a7ecf",
      "metadata": {
        "id": "33865f05-7f3e-465a-9702-e0da708a7ecf"
      },
      "outputs": [],
      "source": [
        "# splitting into text chunks\n",
        "text_splitter = CharacterTextSplitter(\n",
        "    chunk_size=2000,\n",
        "    chunk_overlap=400\n",
        ")"
      ]
    },
    {
      "cell_type": "code",
      "execution_count": null,
      "id": "65e4b898-dbcb-4ad2-8e9f-df82d778b79f",
      "metadata": {
        "id": "65e4b898-dbcb-4ad2-8e9f-df82d778b79f"
      },
      "outputs": [],
      "source": [
        "texts = text_splitter.split_documents(documents)"
      ]
    },
    {
      "cell_type": "code",
      "execution_count": null,
      "id": "3c6f7053-7fab-49ec-a2c2-ea650cb2ec81",
      "metadata": {
        "id": "3c6f7053-7fab-49ec-a2c2-ea650cb2ec81",
        "outputId": "4b2aefd6-21ea-42db-85fb-84a324a6fe63",
        "colab": {
          "base_uri": "https://localhost:8080/"
        }
      },
      "outputs": [
        {
          "output_type": "execute_result",
          "data": {
            "text/plain": [
              "list"
            ]
          },
          "metadata": {},
          "execution_count": 7
        }
      ],
      "source": [
        "type(texts)"
      ]
    },
    {
      "cell_type": "code",
      "execution_count": null,
      "id": "2db76b22-5387-4d8a-b9f0-28a83c7b83d2",
      "metadata": {
        "id": "2db76b22-5387-4d8a-b9f0-28a83c7b83d2",
        "outputId": "96c7d48f-a592-4457-e12b-a50cc03cae9e",
        "colab": {
          "base_uri": "https://localhost:8080/"
        }
      },
      "outputs": [
        {
          "output_type": "execute_result",
          "data": {
            "text/plain": [
              "335"
            ]
          },
          "metadata": {},
          "execution_count": 8
        }
      ],
      "source": [
        "len(texts)"
      ]
    },
    {
      "cell_type": "code",
      "execution_count": null,
      "id": "829f1e6f-fa20-4ee2-9a92-3ed9ca360678",
      "metadata": {
        "id": "829f1e6f-fa20-4ee2-9a92-3ed9ca360678"
      },
      "outputs": [],
      "source": [
        "#texts[:3]"
      ]
    },
    {
      "cell_type": "code",
      "execution_count": null,
      "id": "15cdf33e-db7a-4127-ab3c-ceaf08368d91",
      "metadata": {
        "id": "15cdf33e-db7a-4127-ab3c-ceaf08368d91",
        "outputId": "9e1c6bef-3f3b-4c88-ee86-b3bff52c58d1",
        "colab": {
          "base_uri": "https://localhost:8080/"
        }
      },
      "outputs": [
        {
          "output_type": "stream",
          "name": "stderr",
          "text": [
            "/usr/local/lib/python3.10/dist-packages/langchain_core/_api/deprecation.py:141: LangChainDeprecationWarning: The class `HuggingFaceEmbeddings` was deprecated in LangChain 0.2.2 and will be removed in 0.3.0. An updated version of the class exists in the langchain-huggingface package and should be used instead. To use it run `pip install -U langchain-huggingface` and import as `from langchain_huggingface import HuggingFaceEmbeddings`.\n",
            "  warn_deprecated(\n",
            "/usr/local/lib/python3.10/dist-packages/sentence_transformers/cross_encoder/CrossEncoder.py:11: TqdmExperimentalWarning: Using `tqdm.autonotebook.tqdm` in notebook mode. Use `tqdm.tqdm` instead to force console mode (e.g. in jupyter console)\n",
            "  from tqdm.autonotebook import tqdm, trange\n"
          ]
        }
      ],
      "source": [
        "embeddings = HuggingFaceEmbeddings()"
      ]
    },
    {
      "cell_type": "code",
      "execution_count": null,
      "id": "777412da-11eb-4283-ac81-5f048f6b3897",
      "metadata": {
        "id": "777412da-11eb-4283-ac81-5f048f6b3897"
      },
      "outputs": [],
      "source": [
        "persist_directory = \"liver_transplant_db\""
      ]
    },
    {
      "cell_type": "code",
      "execution_count": null,
      "id": "1cd58bc0-630d-4bb9-80a8-ba2ff1238739",
      "metadata": {
        "id": "1cd58bc0-630d-4bb9-80a8-ba2ff1238739"
      },
      "outputs": [],
      "source": [
        "vectordb = Chroma.from_documents(\n",
        "    documents=texts,\n",
        "    embedding=embeddings,\n",
        "    persist_directory=persist_directory\n",
        ")"
      ]
    },
    {
      "cell_type": "code",
      "execution_count": null,
      "id": "80bcc19b-b67c-459c-b21c-eb21e842387e",
      "metadata": {
        "id": "80bcc19b-b67c-459c-b21c-eb21e842387e"
      },
      "outputs": [],
      "source": [
        "# retriever\n",
        "retriever = vectordb.as_retriever()"
      ]
    },
    {
      "cell_type": "code",
      "execution_count": null,
      "id": "4307b78e-1031-46af-9f2a-725931c2f294",
      "metadata": {
        "id": "4307b78e-1031-46af-9f2a-725931c2f294"
      },
      "outputs": [],
      "source": [
        "# llm from groq\n",
        "llm = ChatGroq(\n",
        "    model=\"llama-3.1-70b-versatile\",\n",
        "    temperature=0\n",
        ")"
      ]
    },
    {
      "cell_type": "code",
      "source": [
        "# Define the custom prompt template\n",
        "custom_prompt_template = \"\"\"\n",
        "You are an expert liver transplant coordinator with access to Mayo Clinic's guidelines and policies on liver transplantation. Answer the following question comprehensively and with precision based on the provided context. Provide detailed explanations and, when applicable, include numerical criteria and eligibility thresholds. Always cite the specific guideline or policy you're referencing.\n",
        "\n",
        "Query: {question}\n",
        "\n",
        "Context: {context}\n",
        "\n",
        "Please structure your response as follows:\n",
        "1. Comprehensive answer to the query (provide a detailed explanation, including background information if relevant)\n",
        "2. Key points or criteria (always include numerical data if applicable, but don't force it if not relevant)\n",
        "3. Relevant guidelines or policies (mention specific documents and provide brief summaries of their content)\n",
        "4. Additional considerations or implications\n",
        "\n",
        "Ensure your response is tailored to the specific query. Not all sections may be necessary for every question - use your judgment to provide the most relevant and helpful information.\n",
        "\n",
        "After formulating your response, please review it for accuracy, especially regarding any numerical data or specific guidelines mentioned.\n",
        "\"\"\"\n",
        "\n",
        "# Create a PromptTemplate\n",
        "PROMPT = PromptTemplate(\n",
        "    template=custom_prompt_template, input_variables=[\"context\", \"question\"]\n",
        ")\n"
      ],
      "metadata": {
        "id": "I7O8_cZP1drk"
      },
      "id": "I7O8_cZP1drk",
      "execution_count": null,
      "outputs": []
    },
    {
      "cell_type": "code",
      "execution_count": null,
      "id": "d28d355b-2b39-46b9-90ad-d9bb4e39a076",
      "metadata": {
        "id": "d28d355b-2b39-46b9-90ad-d9bb4e39a076"
      },
      "outputs": [],
      "source": [
        "# Create a QA chain with the custom prompt\n",
        "qa_chain = RetrievalQA.from_chain_type(\n",
        "    llm=llm,\n",
        "    chain_type=\"stuff\",\n",
        "    retriever=retriever,\n",
        "    return_source_documents=True,\n",
        "    chain_type_kwargs={\"prompt\": PROMPT}\n",
        ")\n",
        "\n"
      ]
    },
    {
      "cell_type": "code",
      "execution_count": null,
      "id": "2ffdd6b0-24b5-4411-8340-e20aefd6cc8d",
      "metadata": {
        "id": "2ffdd6b0-24b5-4411-8340-e20aefd6cc8d",
        "outputId": "86cd0a5f-c529-4b1b-c29b-06765cd18ef8",
        "colab": {
          "base_uri": "https://localhost:8080/"
        }
      },
      "outputs": [
        {
          "output_type": "stream",
          "name": "stdout",
          "text": [
            "**Comprehensive Answer**\n",
            "\n",
            "The liver transplant eligibility criteria for intrahepatic cholangiocarcinoma (iCCA) at Mayo Clinic are outlined in the Liver Transplant for Patients with Intrahepatic Cholangiocarcinoma (iCCA) Guideline. However, it is essential to note that patients with \"intrahepatic\" cholangiocarcinoma are excluded from this protocol. This guideline is specifically designed for patients with hilar cholangiocarcinoma or other types of cholangiocarcinoma that are not intrahepatic.\n",
            "\n",
            "To be eligible for a liver transplant, patients must meet specific inclusion and exclusion criteria. They should be reasonable candidates for liver transplant, have no evidence of extrahepatic disease, including positive nodes, and not have attempted prior resection with violation of the tumor plane. Vascular invasion is a contraindication for transplant, but vascular encasement is not an exclusion criterion.\n",
            "\n",
            "The mass size is also an essential factor in determining eligibility. When a mass is visible on imaging, it should be less than or equal to 3 cm in radial diameter. Patients who meet these criteria will undergo a comprehensive pre-transplant workup, including CA 19-9, ERCP with brushings for cytology and FISH, EUS with sampling of nodes, MRI/MRC and/or contrast-enhanced CT scan, CT scan chest without contrast, bone scan, and PET scan (optional).\n",
            "\n",
            "**Key Points or Criteria**\n",
            "\n",
            "* Patients with \"intrahepatic\" cholangiocarcinoma are excluded.\n",
            "* Mass size should be less than or equal to 3 cm in radial diameter.\n",
            "* No evidence of extrahepatic disease, including positive nodes.\n",
            "* No prior resection with violation of the tumor plane.\n",
            "* Vascular invasion is a contraindication, but vascular encasement is not an exclusion criterion.\n",
            "* Comprehensive pre-transplant workup is required.\n",
            "\n",
            "**Relevant Guidelines or Policies**\n",
            "\n",
            "* Liver Transplant for Patients with Intrahepatic Cholangiocarcinoma (iCCA) Guideline (Arizona, Florida, Rochester)\n",
            "* Liver Transplant for Patients with Hilar Cholangiocarcinoma Guideline (Arizona, Florida, Rochester)\n",
            "* OPTN Policy 15: Identification of Transmissible Diseases\n",
            "* U.S. PHS Guideline, Assessing Solid Organ Donors and Monitoring Transplant Recipients for Human Immunodeficiency Virus, Hepatitis B Virus, and Hepatitis C Virus Infection.\n",
            "\n",
            "**Additional Considerations or Implications**\n",
            "\n",
            "It is crucial to note that the Liver Transplant for Patients with Intrahepatic Cholangiocarcinoma (iCCA) Guideline is not applicable to patients with intrahepatic cholangiocarcinoma. These patients are excluded from this protocol. The guideline is specifically designed for patients with hilar cholangiocarcinoma or other types of cholangiocarcinoma that are not intrahepatic.\n",
            "\n",
            "In addition, the comprehensive pre-transplant workup and the Cholangiocarcinoma Protocol Algorithm are essential components of the evaluation process. Patients who meet the eligibility criteria will undergo a thorough evaluation, including imaging studies, laboratory tests, and endoscopic procedures, to determine their suitability for liver transplant.\n",
            "\n",
            "The Requirements for MELD Score Exceptions are also an essential aspect of the evaluation process. Patients who meet the qualifications outlined in the guideline may be eligible for a MELD score exception, which can impact their priority on the UNOS waitlist.\n"
          ]
        }
      ],
      "source": [
        "# invoke the qa chain and get a response for user query\n",
        "query = \"What is the liver transplant eligibility criteria for intrahepatic cholangiocarcinoma at Mayo Clinic?\"\n",
        "response = qa_chain.invoke({\"query\": query})\n",
        "print(response[\"result\"])"
      ]
    },
    {
      "cell_type": "code",
      "execution_count": null,
      "id": "31ffcd25-3c42-40b2-a08f-db9a94814cce",
      "metadata": {
        "id": "31ffcd25-3c42-40b2-a08f-db9a94814cce",
        "outputId": "43d30157-3838-4617-9489-ddf0128468a2",
        "colab": {
          "base_uri": "https://localhost:8080/"
        }
      },
      "outputs": [
        {
          "output_type": "stream",
          "name": "stdout",
          "text": [
            "**Comprehensive Answer to the Query**\n",
            "\n",
            "The patient in question has portopulmonary hypertension with a mean PA pressure of 50mmHg. To determine if the patient is eligible for MELD exception points, we need to review the requirements for portopulmonary hypertension MELD score exceptions.\n",
            "\n",
            "According to the OPTN Policies (Policy 9: Allocation of Livers and Liver-Intestines, Effective Date: 5/29/2024), a candidate will receive a MELD score exception for portopulmonary hypertension if the transplant program submits evidence of all the following:\n",
            "\n",
            "* Initial mean pulmonary arterial pressure (MPAP) level greater than or equal to 35 mmHg and initial pulmonary vascular resistance (PVR) level greater than or equal to 240 dynes*sec/cm5 (or greater than or equal to 3 Wood units [WU]) via heart catheterization.\n",
            "* Other causes of pulmonary hypertension have been assessed and determined to not be a significant contributing factor.\n",
            "* Initial transpulmonary gradient to correct for volume overload.\n",
            "* Documentation of treatment.\n",
            "* Documentation via heart catheterization within 90 days prior to submission of the initial exception of either post-treatment MPAP less than 35 mmHg and post-treatment PVR less than 400 dynes*sec/cm5 (or less than 5 Wood units [WU]) or post-treatment MPAP greater than or equal to 35 mmHg and less than 45 mmHg and post-treatment PVR less than 240 dynes*sec/cm5 (or less than 3 Wood units [WU]).\n",
            "* Documentation of portal hypertension at the time of initial exception.\n",
            "\n",
            "Since the patient's mean PA pressure is 50mmHg, which is greater than the required 35 mmHg, they may be eligible for MELD exception points. However, the patient must also meet the other requirements listed above.\n",
            "\n",
            "**Key Points or Criteria**\n",
            "\n",
            "* Initial MPAP level greater than or equal to 35 mmHg\n",
            "* Initial PVR level greater than or equal to 240 dynes*sec/cm5 (or greater than or equal to 3 Wood units [WU])\n",
            "* Post-treatment MPAP less than 35 mmHg and post-treatment PVR less than 400 dynes*sec/cm5 (or less than 5 Wood units [WU]) or post-treatment MPAP greater than or equal to 35 mmHg and less than 45 mmHg and post-treatment PVR less than 240 dynes*sec/cm5 (or less than 3 Wood units [WU])\n",
            "* Documentation of portal hypertension at the time of initial exception\n",
            "\n",
            "**Relevant Guidelines or Policies**\n",
            "\n",
            "* OPTN Policies (Policy 9: Allocation of Livers and Liver-Intestines, Effective Date: 5/29/2024)\n",
            "* Table 9-7: Portopulmonary Hypertension Exception Scores\n",
            "\n",
            "**Additional Considerations or Implications**\n",
            "\n",
            "* The patient's transplant program must submit an exception extension request according to UNOS Policy with evidence of a heart catheterization since the last exception or extension request that confirms either MPAP less than 35 mmHg and PVR less than 400 dynes*sec/cm5 (or less than 5 Wood units [WU]) or MPAP greater than or equal to 35 mmHg and less than 45 mmHg and PVR less than 240 dynes*sec/cm5 (or less than 3 Wood units [WU]).\n",
            "* The patient will receive a score of 3 points below MMaT if they meet the requirements for a standardized MELD exception.\n",
            "* The patient's transplant physician may register the candidate as a status 1B if they do not receive a transplant within 30 days of being registered with the exception score.\n"
          ]
        }
      ],
      "source": [
        "# invoke the qa chain and get a response for user query\n",
        "query = \"My patient has portopulmonary hypertension with mean PA Pressure of 50mmHg. Is he eligible for MELD exception points?\"\n",
        "response = qa_chain.invoke({\"query\": query})\n",
        "print(response[\"result\"])"
      ]
    },
    {
      "cell_type": "code",
      "execution_count": null,
      "id": "c1f38d11-e120-4046-a51f-ad626b45de3a",
      "metadata": {
        "id": "c1f38d11-e120-4046-a51f-ad626b45de3a",
        "outputId": "a2b71961-d321-489e-8dea-65c356389eaa",
        "colab": {
          "base_uri": "https://localhost:8080/"
        }
      },
      "outputs": [
        {
          "output_type": "stream",
          "name": "stdout",
          "text": [
            "**1. Comprehensive answer to the query**\n",
            "\n",
            "To be listed as Status 1A with hepatic artery thrombosis (HAT), a patient must meet specific laboratory criteria. Hepatic artery thrombosis is a serious complication that can occur after liver transplantation, and prompt re-transplantation is often necessary to prevent graft loss and patient death. The laboratory criteria for listing a patient as Status 1A with HAT are designed to identify patients who are at high risk of graft loss and death, and who require urgent re-transplantation.\n",
            "\n",
            "According to the guidelines, a patient with HAT within 7 days of transplant can be listed as Status 1A if they meet the following laboratory criteria:\n",
            "\n",
            "* AST (aspartate aminotransferase) greater than or equal to 3,000 U/L\n",
            "* At least one of the following:\n",
            "\t+ INR (international normalized ratio) greater than or equal to 2.5\n",
            "\t+ Arterial pH less than or equal to 7.30\n",
            "\t+ Venous pH less than or equal to 7.25\n",
            "\t+ Lactate greater than or equal to 4 mmol/L\n",
            "\n",
            "These laboratory values must be obtained from the same blood draw, taken 24 hours to 7 days after the transplant. The patient must also meet other criteria, such as being at least 18 years old at registration, to be eligible for a MELD score exception of 40.\n",
            "\n",
            "**2. Key points or criteria**\n",
            "\n",
            "* AST greater than or equal to 3,000 U/L\n",
            "* At least one of the following:\n",
            "\t+ INR greater than or equal to 2.5\n",
            "\t+ Arterial pH less than or equal to 7.30\n",
            "\t+ Venous pH less than or equal to 7.25\n",
            "\t+ Lactate greater than or equal to 4 mmol/L\n",
            "* Laboratory values must be obtained from the same blood draw, taken 24 hours to 7 days after the transplant\n",
            "* Patient must be at least 18 years old at registration to be eligible for a MELD score exception of 40\n",
            "\n",
            "**3. Relevant guidelines or policies**\n",
            "\n",
            "* OPTN (Organ Procurement and Transplantation Network) policy on liver transplantation, specifically the section on Status 1A listing criteria\n",
            "* Mayo Clinic guidelines on liver transplantation, specifically the section on HAT and Status 1A listing criteria\n",
            "\n",
            "**4. Additional considerations or implications**\n",
            "\n",
            "* Patients who meet the laboratory criteria for HAT and are listed as Status 1A will receive priority for re-transplantation, which can improve their chances of survival and graft function.\n",
            "* The MELD score exception of 40 for patients with HAT who do not meet the criteria for Status 1A listing can also improve their chances of receiving a liver transplant in a timely manner.\n",
            "* It is essential to carefully review the laboratory values and clinical status of patients with HAT to ensure that they meet the criteria for Status 1A listing and to prioritize their care accordingly.\n"
          ]
        }
      ],
      "source": [
        "# invoke the qa chain and get a response for user query\n",
        "query = \"What are the laboratory criteria for a patient to be listed Status 1A  with hepatic artery thrombosis?\"\n",
        "response = qa_chain.invoke({\"query\": query})\n",
        "print(response[\"result\"])"
      ]
    },
    {
      "cell_type": "code",
      "execution_count": null,
      "id": "3eec3d40-6922-4e8c-b177-41b588e23d91",
      "metadata": {
        "id": "3eec3d40-6922-4e8c-b177-41b588e23d91",
        "outputId": "5f6f236a-b535-4cdd-af72-cb0cf80e1ab9"
      },
      "outputs": [
        {
          "name": "stdout",
          "output_type": "stream",
          "text": [
            "attention_is_all_you_need.pdf\n"
          ]
        }
      ],
      "source": [
        "# invoke the qa chain and get a response for user query\n",
        "query = \"What are the laboratory criteria for a patient to be listed Status 1A  with hepatic artery thrombosis?\"\n",
        "response = qa_chain.invoke({\"query\": query})\n",
        "print(response[\"result\"])"
      ]
    },
    {
      "cell_type": "code",
      "execution_count": null,
      "id": "9396808b-3e4c-4891-becd-9a35340b342b",
      "metadata": {
        "id": "9396808b-3e4c-4891-becd-9a35340b342b"
      },
      "outputs": [],
      "source": []
    },
    {
      "cell_type": "code",
      "execution_count": null,
      "id": "982fac56-97a5-409a-a8f7-d20ddf004731",
      "metadata": {
        "id": "982fac56-97a5-409a-a8f7-d20ddf004731",
        "outputId": "d5839c96-ce73-430a-a451-ff43d9bc68ed",
        "colab": {
          "base_uri": "https://localhost:8080/"
        }
      },
      "outputs": [
        {
          "output_type": "stream",
          "name": "stdout",
          "text": [
            "**Comprehensive Answer:**\n",
            "\n",
            "The protocol for CMV prophylaxis and monitoring in a D+/R- patient after liver transplant involves a combination of antiviral medication and regular monitoring of CMV PCR levels. According to the provided guidelines, D+/R- patients are at high risk for CMV infection and disease, and therefore require prophylaxis.\n",
            "\n",
            "The recommended prophylaxis regimen for D+/R- patients is Valganciclovir, which is administered orally daily for a total course of 3-6 months. However, if the patient experiences side effects such as leukopenia or thrombocytopenia due to Valganciclovir or Ganciclovir, Letermovir may be considered as an alternative. Letermovir is administered at a dose of 480 mg daily, but the dose may need to be adjusted if the patient is also taking Cyclosporine.\n",
            "\n",
            "In addition to antiviral prophylaxis, regular monitoring of CMV PCR levels is crucial to detect any potential infection or disease. CMV PCR levels should be checked once weekly for 100 days after liver transplantation, and re-treatment should be initiated if any detected value is positive.\n",
            "\n",
            "**Key Points/Criteria:**\n",
            "\n",
            "* D+/R- patients require CMV prophylaxis with Valganciclovir or Letermovir\n",
            "* Valganciclovir is administered orally daily for 3-6 months\n",
            "* Letermovir is administered at a dose of 480 mg daily, with dose adjustment required if patient is also taking Cyclosporine\n",
            "* CMV PCR levels should be checked once weekly for 100 days after liver transplantation\n",
            "* Re-treatment should be initiated if any detected CMV PCR value is positive\n",
            "\n",
            "**Relevant Guidelines/Policies:**\n",
            "\n",
            "* The provided guidelines and policies are based on the Mayo Clinic's protocols for liver transplantation and CMV prophylaxis.\n",
            "* The guidelines recommend Valganciclovir as the first-line prophylaxis agent for D+/R- patients, with Letermovir as an alternative in cases of side effects.\n",
            "* The guidelines also emphasize the importance of regular CMV PCR monitoring and re-treatment in cases of detected infection or disease.\n",
            "\n",
            "**Additional Considerations/Implications:**\n",
            "\n",
            "* It is essential to consult with the Infectious Disease service for any cases of CMV infection or disease, regardless of viral load values.\n",
            "* Patients on Letermovir require baseline CMV PCR and monitoring every other week, with a change to Valganciclovir or Ganciclovir IV if positive.\n",
            "* Patients on Letermovir also require monitoring of calcineurin inhibitors (cyclosporine, tacrolimus) and mTOR inhibitors (sirolimus, everolimus) due to potential drug interactions.\n",
            "* Acyclovir should be added for HSV prophylaxis if necessary, as Letermovir does not cover HSV.\n",
            "******************************\n",
            "Source Document: /content/drive/MyDrive/Mayo_LT/Infections_Immunosuppression/LT_IFD_Guideline.pdf\n"
          ]
        }
      ],
      "source": [
        "# invoke the qa chain and get a response for user query\n",
        "query = \"What is the protocol for CMV prophylaxis and monitoring in a D+/R- patient after liver transplant?\"\n",
        "response = qa_chain.invoke({\"query\": query})\n",
        "print(response[\"result\"])\n",
        "print(\"*\"*30)\n",
        "print(\"Source Document:\", response[\"source_documents\"][0].metadata[\"source\"])"
      ]
    },
    {
      "cell_type": "code",
      "execution_count": null,
      "id": "76206506-1e15-45c2-92f3-891da7ba091d",
      "metadata": {
        "id": "76206506-1e15-45c2-92f3-891da7ba091d",
        "outputId": "e88b0804-1d76-48ee-f47d-900db16f836c",
        "colab": {
          "base_uri": "https://localhost:8080/"
        }
      },
      "outputs": [
        {
          "output_type": "stream",
          "name": "stdout",
          "text": [
            "**Comprehensive Answer**\n",
            "\n",
            "The patient's native liver explant after transplant shows a large, viable, poorly differentiated hepatocellular carcinoma (HCC) with evidence of microvascular invasion. This information is crucial in determining the patient's risk of HCC recurrence and guiding the post-transplant follow-up care.\n",
            "\n",
            "According to the Mayo Clinic's Liver Recipient Hepatocellular Carcinoma (HCC) Treatment Guideline, patients with poorly differentiated HCC histology are not classified as low-risk recipients. Instead, they are considered high-risk recipients, although the guideline does not explicitly define the high-risk group. However, it is implied that patients who do not meet the low-risk criteria, including those with poorly differentiated HCC, are at higher risk of recurrence.\n",
            "\n",
            "Given the patient's high-risk status, the follow-up care should be more intensive than the standard follow-up protocol for low-risk recipients. Although the guideline does not provide specific imaging intervals for high-risk recipients, it is reasonable to assume that more frequent imaging studies would be necessary to monitor for HCC recurrence.\n",
            "\n",
            "**Key Points or Criteria**\n",
            "\n",
            "* Poorly differentiated HCC histology is a high-risk feature for HCC recurrence.\n",
            "* Microvascular invasion is a known risk factor for HCC recurrence.\n",
            "* No specific imaging intervals are provided for high-risk recipients in the Mayo Clinic's Liver Recipient HCC Treatment Guideline.\n",
            "* However, the Waitlist Surveillance & Extensions of HCC Exception Scores section of the guideline suggests that triphasic CT scans or MRI abdomen with contrast every 3 months and CT scans chest without contrast every 6 months may be a reasonable follow-up protocol for high-risk recipients.\n",
            "\n",
            "**Relevant Guidelines or Policies**\n",
            "\n",
            "* Mayo Clinic's Liver Recipient Hepatocellular Carcinoma (HCC) Treatment Guideline - Arizona, Florida, Rochester: This guideline provides recommendations for managing liver transplant recipients transplanted with a diagnosis of HCC, including follow-up care and imaging intervals for low-risk recipients.\n",
            "* Waitlist Surveillance & Extensions of HCC Exception Scores: This section of the guideline outlines the requirements for automatic approval of HCC exception score extensions, including imaging studies and alpha-fetoprotein levels.\n",
            "\n",
            "**Additional Considerations or Implications**\n",
            "\n",
            "* The patient's high-risk status for HCC recurrence necessitates more intensive follow-up care, including more frequent imaging studies.\n",
            "* The follow-up protocol should be individualized based on the patient's specific risk factors and clinical presentation.\n",
            "* The multidisciplinary transplant team should review the patient's case regularly to adjust the follow-up protocol as needed.\n",
            "* The patient should be educated on the importance of adherence to the follow-up protocol and the signs and symptoms of HCC recurrence.\n",
            "******************************\n",
            "Source Document: /content/drive/MyDrive/Mayo_LT/DiseaseSpecific/PostLT_HCC_Recurrence.pdf\n"
          ]
        }
      ],
      "source": [
        "query = \"A patient's native liver explant after transplant shows a large, viable, poorly differentiated hepatocellular carcinoma. There is evidence of microvascular invasion. What is Mayo Clinic's policy on imaging intervals for HCC recurrence monitoring in this patient?\"\n",
        "response = qa_chain.invoke({\"query\": query})\n",
        "print(response[\"result\"])\n",
        "print(\"*\"*30)\n",
        "print(\"Source Document:\", response[\"source_documents\"][0].metadata[\"source\"])"
      ]
    },
    {
      "cell_type": "code",
      "source": [
        "query = \"Outline a detailed week-by-week dietary plan for an obese patient who underwent gastric sleeve at the time of liver transplant.\"\n",
        "response = qa_chain.invoke({\"query\": query})\n",
        "print(response[\"result\"])\n",
        "print(\"*\"*30)\n",
        "print(\"Source Document:\", response[\"source_documents\"][0].metadata[\"source\"])"
      ],
      "metadata": {
        "id": "-4tbaWAa3R4O",
        "outputId": "3b7c2690-da77-453a-ae88-e9a7fa1abfc7",
        "colab": {
          "base_uri": "https://localhost:8080/"
        }
      },
      "id": "-4tbaWAa3R4O",
      "execution_count": null,
      "outputs": [
        {
          "output_type": "stream",
          "name": "stdout",
          "text": [
            "**Comprehensive Answer**\n",
            "\n",
            "For an obese patient who underwent gastric sleeve surgery at the time of liver transplant, a detailed week-by-week dietary plan is crucial to ensure proper nutrition, weight management, and overall health. The primary goal is to achieve a target weight, with an initial goal of at least 10% weight loss and an ideal goal of achieving a BMI < 30 (Liver Post-Transplant Obesity and Bariatric Surgery Guideline).\n",
            "\n",
            "In the immediate post-transplant recovery period, the patient may require slightly higher calorie intake to support healing and recovery. However, a calorie-restricted diet with adequate protein intake is essential to promote weight loss and maintain overall health. The Transplant Program Dietitian will determine the target weight and calorie restriction in conjunction with the transplant surgeon.\n",
            "\n",
            "A sample meal plan for the first few weeks post-transplant may include:\n",
            "\n",
            "* Week 1-2: Liquid diet with high-calorie, high-protein supplements (e.g., Ensure Clear, 250-300 calories, 15-20 grams protein per serving)\n",
            "* Week 3-4: Pureed diet with soft, easy-to-digest foods (e.g., mashed bananas, scrambled eggs, 300-400 calories, 20-25 grams protein per serving)\n",
            "* Week 5-6: Soft, solid foods with a focus on protein-rich foods (e.g., lean meats, fish, eggs, 400-500 calories, 30-35 grams protein per serving)\n",
            "* Week 7-12: Gradually introduce more solid foods, including fruits, vegetables, whole grains, and lean protein sources (500-600 calories, 35-40 grams protein per serving)\n",
            "\n",
            "**Key Points or Criteria**\n",
            "\n",
            "* Initial goal: at least 10% weight loss\n",
            "* Ideal goal: achieve a BMI < 30\n",
            "* Calorie restriction: determined by Transplant Program Dietitian in conjunction with transplant surgeon\n",
            "* Protein intake: adequate protein intake to support healing and weight loss (15-40 grams protein per serving)\n",
            "* Meal plan: gradually introduce more solid foods, including fruits, vegetables, whole grains, and lean protein sources\n",
            "\n",
            "**Relevant Guidelines or Policies**\n",
            "\n",
            "* Liver Post-Transplant Obesity and Bariatric Surgery Guideline (Arizona, Florida, Rochester)\n",
            "\t+ Provides guidelines for the care and management of liver transplant recipients who have undergone bariatric surgery before or in combination with liver transplant\n",
            "\t+ Emphasizes the importance of calorie restriction, adequate protein intake, and weight management\n",
            "* Liver Pre-Transplant Obesity Management Procedure (Arizona, Florida, Rochester)\n",
            "\t+ Provides a written procedure for managing obesity in eligible liver transplant candidates\n",
            "\t+ Determines candidate eligibility for combined gastric sleeve resection at the time of transplant\n",
            "\n",
            "**Additional Considerations or Implications**\n",
            "\n",
            "* Regular follow-up with the Transplant Program Dietitian and Physician is crucial to monitor weight management progress and adjust the meal plan as needed\n",
            "* Patients should record daily food intake and track their weight on a weekly basis to monitor progress\n",
            "* Increase activity from baseline to eventual goal of daily, moderate intensity, exercise 30 minutes (>150 minutes/week), in multiple segments, if needed\n",
            "* Patients may require additional support, such as structured weight loss programs or counseling, to maintain a low-calorie diet and achieve weight loss goals.\n",
            "******************************\n",
            "Source Document: /content/drive/MyDrive/Mayo_LT/PostLT/PostLT_ObesityBariatric.pdf\n"
          ]
        }
      ]
    },
    {
      "cell_type": "code",
      "source": [
        "query = \"A 30 year old female underwent liver transplantation. What is the guideline for bone mineral density testing for her?\"\n",
        "response = qa_chain.invoke({\"query\": query})\n",
        "print(response[\"result\"])\n",
        "print(\"*\"*30)\n",
        "print(\"Source Document:\", response[\"source_documents\"][0].metadata[\"source\"])"
      ],
      "metadata": {
        "id": "SFYNAuvX3iId",
        "outputId": "ac1d361b-44b3-418f-d303-629fb32d6ef0",
        "colab": {
          "base_uri": "https://localhost:8080/"
        }
      },
      "id": "SFYNAuvX3iId",
      "execution_count": null,
      "outputs": [
        {
          "output_type": "stream",
          "name": "stdout",
          "text": [
            "**Comprehensive Answer**\n",
            "\n",
            "According to the Liver Osteoporosis Guideline - Arizona, Florida, Rochester, bone mineral density (BMD) testing is recommended for liver transplant recipients. For a 30-year-old female who underwent liver transplantation, the guideline suggests that BMD testing should be performed at year 1, year 2, and then every 5 years after transplant, assuming she has no risk factors for osteoporosis.\n",
            "\n",
            "**Key Points or Criteria**\n",
            "\n",
            "* Age < 40 with no risk factors: BMD testing at year 1, year 2, and every 5 years after transplant\n",
            "* Risk factors for osteoporosis include:\n",
            "\t+ History of osteoporotic fracture\n",
            "\t+ Z-score < -2 at hip or spine\n",
            "\t+ Significant loss of BMD at hip or spine\n",
            "\t+ On osteoporosis therapy\n",
            "* If risk factors are present, BMD testing should be performed at year 1, year 2, and every 3 years after transplant\n",
            "\n",
            "**Relevant Guidelines or Policies**\n",
            "\n",
            "* Liver Osteoporosis Guideline - Arizona, Florida, Rochester: This guideline provides recommendations for the treatment of bone disease in liver transplant candidates and recipients, including BMD testing and dietary supplements.\n",
            "* Liver Pre-Transplant Evaluation Guideline - Arizona, Florida, Rochester: This guideline outlines the evaluation process for liver transplant candidates, including BMD testing.\n",
            "* Liver Transplant Four Month and Annual Post Transplant Care Guideline - Arizona, Florida, Rochester: This guideline provides recommendations for post-transplant care, including BMD testing and management of osteoporosis.\n",
            "\n",
            "**Additional Considerations or Implications**\n",
            "\n",
            "* It is essential to note that these guidelines are recommendations and may be modified using professional judgment and adapted to individual patient situations.\n",
            "* Patients with a history of osteoporotic fracture, significant loss of BMD, or on osteoporosis therapy may require more frequent BMD testing and closer monitoring.\n",
            "* Dietary supplements, including calcium and vitamin D, are recommended to maintain bone health, with a goal of 1200mg daily and total 25 hydroxyvitamin D ≥ 20ng/mL.\n",
            "* Endocrine consultation is recommended for patients with vertebral fracture on x-ray without trauma, history of fragility fracture(s), or T-score ≤ -2.5 pre or post-transplant.\n",
            "******************************\n",
            "Source Document: /content/drive/MyDrive/Mayo_LT/PostLT/LT_Osteoporosis.pdf\n"
          ]
        }
      ]
    },
    {
      "cell_type": "code",
      "source": [
        "query = \"A 40 year old patient had AKI secondary to hepatorenal syndrome and ended up on dialysis. He has not regained urine output and remains on dialysis for the past 2 weeks. Is he eligible for simultaneous liver and kidney transplantation? Please provide the specific eligibility criteria for SLK\"\n",
        "response = qa_chain.invoke({\"query\": query})\n",
        "print(response[\"result\"])\n",
        "print(\"*\"*30)\n",
        "print(\"Source Document:\", response[\"source_documents\"][0].metadata[\"source\"])"
      ],
      "metadata": {
        "id": "XI0dGMUo3-i-",
        "outputId": "bbe0a779-3628-482a-d08a-4d37761df842",
        "colab": {
          "base_uri": "https://localhost:8080/"
        }
      },
      "id": "XI0dGMUo3-i-",
      "execution_count": null,
      "outputs": [
        {
          "output_type": "stream",
          "name": "stdout",
          "text": [
            "**Comprehensive Answer to the Query**\n",
            "\n",
            "The patient in question has developed acute kidney injury (AKI) secondary to hepatorenal syndrome and has been on dialysis for the past 2 weeks without regaining urine output. The patient's condition raises the possibility of simultaneous liver and kidney transplantation (SLK). According to the Mayo Clinic's guidelines, renal dysfunction does not exclude a patient from candidacy for liver transplantation. However, the decision to proceed with SLK is made on an individual basis.\n",
            "\n",
            "In this case, the patient's prolonged dialysis dependence suggests that the kidney dysfunction is severe and may not recover with liver transplantation alone. The patient's condition may meet the criteria for SLK, which is considered for patients with end-stage liver disease and irreversible kidney dysfunction.\n",
            "\n",
            "**Key Points or Criteria**\n",
            "\n",
            "* The patient has developed AKI secondary to hepatorenal syndrome and has been on dialysis for the past 2 weeks without regaining urine output.\n",
            "* Renal dysfunction does not exclude a patient from candidacy for liver transplantation.\n",
            "* SLK is considered on an individual basis for patients with end-stage liver disease and irreversible kidney dysfunction.\n",
            "* The patient's condition may meet the criteria for SLK, but a thorough evaluation is necessary to determine the best course of treatment.\n",
            "\n",
            "**Relevant Guidelines or Policies**\n",
            "\n",
            "* The Mayo Clinic's Liver Transplant Candidate Selection Guideline states that renal dysfunction will not exclude a patient from candidacy and that a combined liver/kidney transplant will be considered on an individual basis.\n",
            "* The OPTN/UNOS policy on simultaneous liver and kidney transplantation states that SLK is considered for patients with end-stage liver disease and irreversible kidney dysfunction.\n",
            "* The Liver Transplant Status 1A Policy - Arizona, Florida, Rochester states that a candidate can be assigned adult status 1A if they have a life expectancy without a liver transplant of less than 7 days and meet certain conditions, including requiring dialysis.\n",
            "\n",
            "**Additional Considerations or Implications**\n",
            "\n",
            "* The patient's condition is complex and requires a thorough evaluation by a multidisciplinary team to determine the best course of treatment.\n",
            "* The decision to proceed with SLK should be made on an individual basis, taking into account the patient's overall health, medical history, and potential for recovery.\n",
            "* The patient's insurance coverage and ability to cover the expenses involved with a transplant and subsequent care should be evaluated to ensure that they can receive the necessary treatment.\n",
            "\n",
            "In conclusion, the patient's condition may meet the criteria for SLK, but a thorough evaluation is necessary to determine the best course of treatment. The decision to proceed with SLK should be made on an individual basis, taking into account the patient's overall health, medical history, and potential for recovery.\n",
            "******************************\n",
            "Source Document: /content/drive/MyDrive/Mayo_LT/PreLT/PreLT_SelectionCriteria.pdf\n"
          ]
        }
      ]
    },
    {
      "cell_type": "code",
      "source": [
        "query = \"What are rapid recovery pathway recommendations in the OR and ICU after liver transplant?\"\n",
        "response = qa_chain.invoke({\"query\": query})\n",
        "print(response[\"result\"])\n",
        "print(\"*\"*30)\n",
        "print(\"Source Document:\", response[\"source_documents\"][0].metadata[\"source\"])"
      ],
      "metadata": {
        "id": "7y96KJYS4glD",
        "outputId": "45bc7138-0c8a-4d8b-d5f1-8c90431c8a3d",
        "colab": {
          "base_uri": "https://localhost:8080/"
        }
      },
      "id": "7y96KJYS4glD",
      "execution_count": null,
      "outputs": [
        {
          "output_type": "stream",
          "name": "stdout",
          "text": [
            "**Comprehensive Answer**\n",
            "\n",
            "The rapid recovery pathway for liver transplant recipients in the operating room (OR) and intensive care unit (ICU) is designed to optimize post-transplant care and minimize complications. According to the Liver Transplant Recipient Rapid Recovery Guideline (Rochester), eligible patients are those who do not meet specific exclusion criteria. The goal of this pathway is to promote a smooth transition from the OR to the ICU and eventually to the general ward, while ensuring close monitoring and timely intervention if needed.\n",
            "\n",
            "In the OR, the anesthesiologist plays a crucial role in assessing the patient's airway and respiratory status. Patients with a difficult airway or those who require high levels of oxygen therapy (FiO2 > 50%) or positive end-expiratory pressure (PEEP > 8 cm H2O) are excluded from the rapid recovery pathway. Additionally, patients with significant metabolic derangements or acidosis (pH < 7.2, bicarbonate < 18) or those who require more than one vasopressor or inotrope during the last hour of surgery are also excluded.\n",
            "\n",
            "In the ICU, the focus is on close monitoring of vital signs, laboratory results, and respiratory status. Patients who meet the inclusion criteria are eligible for a rapid recovery pathway, which includes early extubation, mobilization, and transition to the general ward.\n",
            "\n",
            "**Key Points or Criteria**\n",
            "\n",
            "* Inclusion criteria: liver transplant recipients who do not meet exclusion criteria\n",
            "* Exclusion criteria:\n",
            "\t+ Preoperative ICU status or continuous renal replacement therapy (CRRT)\n",
            "\t+ Refractory encephalopathy pre-transplant\n",
            "\t+ Multi-organ transplant recipients\n",
            "\t+ Blood transfusion intraoperatively of > 10 units\n",
            "\t+ Hemodynamic instability or need for more than one vasopressor or inotrope during the last hour of surgery\n",
            "\t+ Difficult airway or inability to maintain saturations > 92% or PaO2 > 90 mmHg with low FiO2 (40-50%) and PEEP (5-8 cm H2O) values\n",
            "\t+ Significant metabolic derangements or acidosis (pH < 7.2, bicarbonate < 18)\n",
            "\t+ Significant coagulopathy at the end of operation\n",
            "\n",
            "**Relevant Guidelines or Policies**\n",
            "\n",
            "* Liver Transplant Recipient Rapid Recovery Guideline (Rochester): provides recommendations for the rapid recovery pathway for liver transplant recipients in the OR and ICU.\n",
            "* Liver Immediate Outpatient Post-Transplant Guideline (Arizona, Florida, Rochester): provides guidelines for the outpatient evaluation of liver transplant recipients from the day of hospital dismissal to four months.\n",
            "\n",
            "**Additional Considerations or Implications**\n",
            "\n",
            "* The rapid recovery pathway is not a one-size-fits-all approach and requires careful assessment of each patient's individual needs and risks.\n",
            "* Close communication and collaboration between the multidisciplinary team, including anesthesiologists, surgeons, intensivists, and transplant coordinators, are essential for successful implementation of the rapid recovery pathway.\n",
            "* Patients who do not meet the inclusion criteria or who experience complications during the rapid recovery pathway may require more intensive monitoring and care in the ICU.\n",
            "* The rapid recovery pathway may have implications for resource allocation and staffing in the ICU and OR, and may require adjustments to existing protocols and procedures.\n",
            "******************************\n",
            "Source Document: /content/drive/MyDrive/Mayo_LT/PostLT/LT_Rapid_Recovery.pdf\n"
          ]
        }
      ]
    },
    {
      "cell_type": "code",
      "source": [
        "query = \"My patient was diagnosed with intrahepatic cholangiocarcinoma. His tumor size is 2cm. Is he eligible for liver transplantation at Mayo Clinic in the iCCA protocol?\"\n",
        "response = qa_chain.invoke({\"query\": query})\n",
        "print(response[\"result\"])\n",
        "print(\"*\"*30)\n",
        "print(\"Source Document:\", response[\"source_documents\"][0].metadata[\"source\"])"
      ],
      "metadata": {
        "id": "2Tos_GOx4NnN",
        "outputId": "9738960f-e094-4927-8d26-503d20bc466b",
        "colab": {
          "base_uri": "https://localhost:8080/"
        }
      },
      "id": "2Tos_GOx4NnN",
      "execution_count": null,
      "outputs": [
        {
          "output_type": "stream",
          "name": "stdout",
          "text": [
            "**Comprehensive Answer:**\n",
            "\n",
            "Based on the provided guidelines, your patient with intrahepatic cholangiocarcinoma (iCCA) and a tumor size of 2cm may be eligible for liver transplantation at Mayo Clinic under the iCCA protocol. The inclusion criteria for liver transplantation in patients with iCCA, as outlined in the Management of Intrahepatic Cholangiocarcinoma (iCCA) in Liver Transplant Candidates and Recipients Guideline, include a single lesion less than or equal to 3 cm in diameter, no vascular invasion, no evidence of extrahepatic disease, and no attempted prior resection with violation of tumor plane.\n",
            "\n",
            "Since your patient's tumor size is 2cm, which is within the specified limit, and assuming that the other inclusion criteria are met, your patient may be considered for liver transplantation. However, it is essential to note that these guidelines are recommendations rather than rigid rules and may be modified using professional judgment.\n",
            "\n",
            "**Key Points or Criteria:**\n",
            "\n",
            "* Single lesion less than or equal to 3 cm in diameter\n",
            "* No vascular invasion\n",
            "* No evidence of extrahepatic disease\n",
            "* No attempted prior resection with violation of tumor plane\n",
            "* No microvascular invasion or poorly differentiated histology\n",
            "* Mixed histology type is acceptable\n",
            "\n",
            "**Relevant Guidelines or Policies:**\n",
            "\n",
            "* Management of Intrahepatic Cholangiocarcinoma (iCCA) in Liver Transplant Candidates and Recipients Guideline (Arizona, Florida, Rochester)\n",
            "* Liver Transplant for Patients with Intrahepatic Cholangiocarcinoma (iCCA) Guideline (Arizona, Florida, Rochester)\n",
            "* Liver Transplant for Patients with Hilar Cholangiocarcinoma Guideline (Arizona, Florida, Rochester)\n",
            "\n",
            "These guidelines provide recommendations for the evaluation and management of liver transplant candidates and recipients with iCCA, including diagnostic criteria, inclusion criteria, and pre-transplant evaluation requirements.\n",
            "\n",
            "**Additional Considerations or Implications:**\n",
            "\n",
            "* A comprehensive pre-transplant evaluation, including imaging studies (MRI/MRC, CT abdomen with contrast, CT scan chest without contrast) and laboratory tests (CA 19-9, EUS with sampling of nodes), is necessary to assess the patient's eligibility for liver transplantation.\n",
            "* The patient's overall health and suitability for liver transplantation should be evaluated, taking into account factors such as liver function, comorbidities, and potential risks and benefits of transplantation.\n",
            "* The transplant team's professional judgment and expertise will play a crucial role in determining the patient's eligibility for liver transplantation, as these guidelines are recommendations rather than rigid rules.\n",
            "******************************\n",
            "Source Document: /content/drive/MyDrive/Mayo_LT/DiseaseSpecific/ICCA_guideline.pdf\n"
          ]
        }
      ]
    },
    {
      "cell_type": "code",
      "source": [
        "query = \"My patient received a hepatitis B core positive liver. What kind of prophylaxis does he need going forward?\"\n",
        "response = qa_chain.invoke({\"query\": query})\n",
        "print(response[\"result\"])\n",
        "print(\"*\"*30)\n",
        "print(\"Source Document:\", response[\"source_documents\"][0].metadata[\"source\"])"
      ],
      "metadata": {
        "id": "V4yBvwjU4rTm",
        "outputId": "09044747-9647-41ad-a552-9c19684adfea",
        "colab": {
          "base_uri": "https://localhost:8080/"
        }
      },
      "id": "V4yBvwjU4rTm",
      "execution_count": null,
      "outputs": [
        {
          "output_type": "stream",
          "name": "stdout",
          "text": [
            "**Comprehensive Answer:**\n",
            "\n",
            "The patient who received a hepatitis B core positive liver requires antiviral prophylaxis to prevent de-novo hepatitis B infection. According to the Mayo Clinic's Liver HBcAb Positive Donor Prevention of de-novo Hepatitis B Guideline, the first dose of antiviral therapy should be initiated on call to the operating room.\n",
            "\n",
            "The guideline recommends the following antiviral treatment options:\n",
            "\n",
            "* First choice: Baraclude (entecavir) 0.5 mg oral daily, 2 hours away from food, or Viread (TDF, tenofovir disoproxil fumarate) 300 mg oral daily, with renal adjustment based on serum creatinine levels.\n",
            "* Second choice: Vemlidy (TAF, tenofovir alafenamide) 25 mg oral daily, with no adjustment needed.\n",
            "\n",
            "The choice of antiviral therapy depends on the patient's kidney function, with Viread being the preferred option for patients with serum creatinine levels <1.5 mg/dL and no history of osteoporosis. For patients with serum creatinine levels ≥1.5 mg/dL or a history of osteoporosis, Baraclude or Vemlidy are recommended.\n",
            "\n",
            "It is essential to check the patient's HBsAb status at 1 year after liver transplant. If the patient is HBsAb positive, long-term antiviral prophylaxis should be continued. If antiviral prophylaxis is stopped, the patient's HBsAb status should be checked annually, and the need for restarting antiviral therapy should be reassessed before immunomodulatory therapy, chemotherapy, or T-cell depleting anti-rejection therapy.\n",
            "\n",
            "**Key Points or Criteria:**\n",
            "\n",
            "* Antiviral therapy should be initiated on call to the operating room.\n",
            "* First choice antiviral treatment options:\n",
            "\t+ Baraclude (entecavir) 0.5 mg oral daily, 2 hours away from food.\n",
            "\t+ Viread (TDF, tenofovir disoproxil fumarate) 300 mg oral daily, with renal adjustment based on serum creatinine levels.\n",
            "* Second choice antiviral treatment options:\n",
            "\t+ Vemlidy (TAF, tenofovir alafenamide) 25 mg oral daily, with no adjustment needed.\n",
            "* Renal adjustment criteria:\n",
            "\t+ Serum creatinine <1.5 mg/dL and no history of osteoporosis: Viread preferred.\n",
            "\t+ Serum creatinine ≥1.5 mg/dL or history of osteoporosis: Baraclude or Vemlidy recommended.\n",
            "* HBsAb status should be checked at 1 year after liver transplant.\n",
            "\n",
            "**Relevant Guidelines or Policies:**\n",
            "\n",
            "* Mayo Clinic's Liver HBcAb Positive Donor Prevention of de-novo Hepatitis B Guideline (Arizona, Florida, Rochester).\n",
            "* Liver Infectious Disease Guideline.\n",
            "* Liver Transplant Four Month and Annual Post Transplant Care Guideline (Arizona, Florida, Rochester).\n",
            "\n",
            "**Additional Considerations or Implications:**\n",
            "\n",
            "* The patient's kidney function and osteoporosis status should be closely monitored to adjust antiviral therapy accordingly.\n",
            "* Regular HBsAb status checks are crucial to determine the need for continued antiviral prophylaxis.\n",
            "* The patient's immunosuppressive regimen should be carefully managed to minimize the risk of de-novo hepatitis B infection.\n",
            "* The patient should be educated on the importance of adherence to antiviral therapy and regular follow-up appointments to monitor their HBsAb status and adjust treatment as needed.\n",
            "******************************\n",
            "Source Document: /content/drive/MyDrive/Mayo_LT/Infections_Immunosuppression/LT_HBcAb_Donor.pdf\n"
          ]
        }
      ]
    },
    {
      "cell_type": "code",
      "source": [
        "query = \"My patient received a liver transplantation. She is CMV seropositive and so was the donor. What kind of post-transplant monitoring for CMV does she need?\"\n",
        "response = qa_chain.invoke({\"query\": query})\n",
        "print(response[\"result\"])\n",
        "print(\"*\"*30)\n",
        "print(\"Source Document:\", response[\"source_documents\"][0].metadata[\"source\"])"
      ],
      "metadata": {
        "id": "I7e4mFj15xT1",
        "outputId": "19808738-9515-478a-cf28-19e8a112592a",
        "colab": {
          "base_uri": "https://localhost:8080/"
        }
      },
      "id": "I7e4mFj15xT1",
      "execution_count": null,
      "outputs": [
        {
          "output_type": "stream",
          "name": "stdout",
          "text": [
            "**Comprehensive Answer:**\n",
            "\n",
            "The patient in question is a liver transplant recipient who is CMV seropositive, and the donor was also CMV seropositive. According to the provided guidelines, this patient falls under the category of CMV R+ (recipient seropositive). For such patients, the recommended post-transplant monitoring for CMV involves quantitative blood CMV PCR once weekly for 12 weeks after liver transplantation. No CMV prophylaxis is recommended for these patients; however, they will need HSV prophylaxis.\n",
            "\n",
            "**Key Points or Criteria:**\n",
            "\n",
            "* CMV R+ patients require quantitative blood CMV PCR once weekly for 12 weeks after liver transplantation.\n",
            "* No CMV prophylaxis is recommended for CMV R+ patients.\n",
            "* HSV prophylaxis is necessary for these patients.\n",
            "* Preemptive therapy for CMV infection without disease is considered with quantifiable CMV PCR, and treatment should be discussed with Infectious Disease.\n",
            "\n",
            "**Relevant Guidelines or Policies:**\n",
            "\n",
            "* Pediatric Liver Transplant Infectious Diseases Guideline- Rochester: This document provides guidance on the management of infectious diseases in pediatric liver transplant patients, including CMV monitoring and prophylaxis.\n",
            "* CMS Condition of Participation 482.94: Patient and Living Donor Management: This document outlines the requirements for patient and living donor management in transplant programs, including infection control and prevention.\n",
            "\n",
            "**Additional Considerations or Implications:**\n",
            "\n",
            "* It is essential to note that the patient's CMV status and the donor's CMV status play a crucial role in determining the post-transplant monitoring and prophylaxis strategy.\n",
            "* The patient's clinical presentation, including any signs of CMV infection or disease, should be closely monitored, and the Infectious Disease service should be consulted as needed.\n",
            "* The use of Letermovir for CMV prophylaxis may be considered in patients with side effects from Valganciclovir/Ganciclovir, but this should be discussed with the Infectious Disease service and the transplant pharmacist.\n",
            "* Blood CMV PCR should also be ordered every 1-3 days in case of recurrent fever to screen for viremia in the recipient at risk.\n",
            "******************************\n",
            "Source Document: /content/drive/MyDrive/Mayo_LT/Infections_Immunosuppression/LT_IFD_Guideline.pdf\n"
          ]
        }
      ]
    },
    {
      "cell_type": "code",
      "source": [
        "query = \"What is the Mayo Clinic's recommendation for first and second-line choices for managing hypertension after liver transplant?\"\n",
        "response = qa_chain.invoke({\"query\": query})\n",
        "print(response[\"result\"])\n",
        "print(\"*\"*30)\n",
        "print(\"Source Document:\", response[\"source_documents\"][0].metadata[\"source\"])"
      ],
      "metadata": {
        "id": "nVUtgv_t6Eme",
        "outputId": "80a5edbf-bc61-4fad-d7db-6c27290e4eb1",
        "colab": {
          "base_uri": "https://localhost:8080/"
        }
      },
      "id": "nVUtgv_t6Eme",
      "execution_count": null,
      "outputs": [
        {
          "output_type": "stream",
          "name": "stdout",
          "text": [
            "**Comprehensive Answer**\n",
            "\n",
            "The Mayo Clinic's recommendation for managing hypertension after liver transplant involves a multi-faceted approach that includes lifestyle modifications and pharmacologic interventions. According to the Liver Transplant Hypertension Treatment Guideline, the first-line treatment for hypertension in liver transplant patients is a calcium channel blocker, specifically the dihydropyridine class, such as amlodipine or nifedipine. However, it is essential to note that nifedipine may increase the concentration of calcineurin inhibitors (tacrolimus, cyclosporine), and therefore, increased trough monitoring is recommended.\n",
            "\n",
            "For patients with specific comorbidities, such as heart failure, active coronary artery disease (CAD), or diabetes, chronic kidney disease (CKD), or significant proteinuria, alternative first-line agents are recommended. For patients with heart failure, beta-blockers or angiotensin receptor-neprilysin inhibitors (ARNI) are preferred, while beta-blockers are the drug of choice for patients with active CAD and recent coronary events. In patients with diabetes, CKD, or significant proteinuria, angiotensin-converting enzyme inhibitors (ACE-I) or angiotensin receptor blockers (ARB) are the preferred first-line agents, although they are not recommended in the immediate post-transplant phase.\n",
            "\n",
            "**Key Points or Criteria**\n",
            "\n",
            "* Hypertension is defined as a blood pressure greater than 140/90 mmHg.\n",
            "* First-line treatment for hypertension in liver transplant patients:\n",
            "\t+ Calcium channel blockers (dihydropyridine class, e.g., amlodipine or nifedipine)\n",
            "\t+ Alternative first-line agents for specific comorbidities:\n",
            "\t\t- Heart failure: beta-blockers or ARNI\n",
            "\t\t- Active CAD and recent coronary events: beta-blockers\n",
            "\t\t- Diabetes, CKD, or significant proteinuria: ACE-I or ARB (not recommended in the immediate post-transplant phase)\n",
            "* Increased trough monitoring is recommended when using nifedipine due to potential interactions with calcineurin inhibitors.\n",
            "\n",
            "**Relevant Guidelines or Policies**\n",
            "\n",
            "* Liver Transplant Hypertension Treatment Guideline (Arizona, Florida, Rochester)\n",
            "\t+ Provides recommendations for managing hypertension in liver transplant patients, including lifestyle modifications and pharmacologic interventions.\n",
            "* Liver Transplant Lipid Management Guideline (Arizona, Florida, Rochester)\n",
            "\t+ Although not directly related to hypertension management, this guideline provides recommendations for lipid management in liver transplant patients, which may be relevant in the context of cardiovascular disease prevention.\n",
            "\n",
            "**Additional Considerations or Implications**\n",
            "\n",
            "* The management of hypertension in liver transplant patients requires careful consideration of potential interactions between immunosuppressive medications and antihypertensive agents.\n",
            "* Regular monitoring of blood pressure and adjustment of antihypertensive medications as needed are crucial to prevent cardiovascular complications in liver transplant patients.\n",
            "* A multidisciplinary approach, involving transplant coordinators, pharmacists, and healthcare providers, is essential to ensure optimal management of hypertension in liver transplant patients.\n",
            "******************************\n",
            "Source Document: /content/drive/MyDrive/Mayo_LT/PostLT/LT_HTN.pdf\n"
          ]
        }
      ]
    },
    {
      "cell_type": "code",
      "source": [
        "query = \"My patient's AST spiked to 4000 on day 3 after transplant. Patient is ill with arterial pH of 7.2 and lactate of 5. Ultrasound shows hepatic artery thrombosis. Does he meet the eligibility for Status 1A listing?\"\n",
        "response = qa_chain.invoke({\"query\": query})\n",
        "print(response[\"result\"])\n",
        "print(\"*\"*30)\n",
        "print(\"Source Document:\", response[\"source_documents\"][0].metadata[\"source\"])"
      ],
      "metadata": {
        "id": "U98JLWnn6JEM",
        "outputId": "7ebc9e5d-2e94-4b73-9713-931e35b5a118",
        "colab": {
          "base_uri": "https://localhost:8080/"
        }
      },
      "id": "U98JLWnn6JEM",
      "execution_count": null,
      "outputs": [
        {
          "output_type": "stream",
          "name": "stdout",
          "text": [
            "**Comprehensive Answer**\n",
            "\n",
            "The patient's situation meets the criteria for Status 1A listing due to hepatic artery thrombosis (HAT) within 7 days of transplant. The patient's AST level is significantly elevated at 4000, which is above the required threshold of 3000 U/L. Additionally, the patient's arterial pH is 7.2, and lactate is 5, both of which are within the required criteria for Status 1A listing.\n",
            "\n",
            "The patient's condition is critical, and the presence of HAT with elevated AST and lactate levels indicates a high risk of graft failure. The patient's arterial pH is also below the normal range, indicating acidosis. These findings are consistent with the diagnosis of HAT and primary non-function of the transplanted liver.\n",
            "\n",
            "**Key Points or Criteria**\n",
            "\n",
            "* Hepatic artery thrombosis (HAT) within 7 days of transplant\n",
            "* AST greater than or equal to 3000 U/L (patient's AST is 4000)\n",
            "* Arterial pH less than or equal to 7.30 (patient's pH is 7.2)\n",
            "* Lactate greater than or equal to 4 mmol/L (patient's lactate is 5)\n",
            "* All laboratory results must be from the same blood draw taken 24 hours to 7 days after the transplant\n",
            "\n",
            "**Relevant Guidelines or Policies**\n",
            "\n",
            "* OPTN Policy 9.1: Liver Status 1A Justification Form\n",
            "* OPTN Policy 9.2: Liver Status 1A Recertification\n",
            "* Mayo Clinic's Liver Transplant Waitlist Management Guideline - Rochester\n",
            "\n",
            "These guidelines outline the criteria for Status 1A listing, including the requirements for HAT, primary non-function, and metabolic disease. The guidelines also provide information on the recertification process and the need for regular laboratory updates.\n",
            "\n",
            "**Additional Considerations or Implications**\n",
            "\n",
            "* The patient's condition is critical, and prompt re-transplantation is likely necessary to prevent further complications.\n",
            "* The patient's MELD score may be affected by the HAT and primary non-function, and a MELD score exception may be necessary.\n",
            "* The transplant team should closely monitor the patient's condition and update the OPTN with the most recent laboratory results to ensure accurate Status 1A listing.\n",
            "* The patient's case may require review by the OPTN and the transplant hospital's peer review committee to ensure compliance with OPTN policies and guidelines.\n",
            "******************************\n",
            "Source Document: /content/drive/MyDrive/Mayo_LT/PreLT/Adult_Status1A_Policy.pdf\n"
          ]
        }
      ]
    },
    {
      "cell_type": "code",
      "source": [
        "query = \"A 12 year old boy underwent a liver transplant. The EBV status is D+/R-. What is the recommended monitoring interval for EBV PCR?\"\n",
        "response = qa_chain.invoke({\"query\": query})\n",
        "print(response[\"result\"])\n",
        "print(\"*\"*30)\n",
        "print(\"Source Document:\", response[\"source_documents\"][0].metadata[\"source\"])"
      ],
      "metadata": {
        "id": "NSP9pnBB6W8k",
        "outputId": "63c67978-7fb0-4b8a-d766-6e182550cef6",
        "colab": {
          "base_uri": "https://localhost:8080/"
        }
      },
      "id": "NSP9pnBB6W8k",
      "execution_count": null,
      "outputs": [
        {
          "output_type": "stream",
          "name": "stdout",
          "text": [
            "**Comprehensive Answer:**\n",
            "\n",
            "The patient in question is a 12-year-old boy who underwent a liver transplant with an EBV status of D+/R-. According to the Mayo Clinic's guidelines for Post-Transplant Lymphoproliferative Disorder (PTLD) Monitoring & Treatment in Pediatric Liver Transplant Recipients, this patient falls into the high-risk category for developing PTLD.\n",
            "\n",
            "The recommended monitoring interval for EBV PCR in this patient is every other week during the first 3-6 months post-transplant, based on the immunosuppression load. After this initial period, the monitoring interval should be monthly during the first year post-transplant, and then every 3 months during the second year post-transplant.\n",
            "\n",
            "**Key Points or Criteria:**\n",
            "\n",
            "* EBV status: D+/R- (high-risk category)\n",
            "* Age: 12 years old\n",
            "* Monitoring interval:\n",
            "\t+ Every other week during the first 3-6 months post-transplant\n",
            "\t+ Monthly during the first year post-transplant\n",
            "\t+ Every 3 months during the second year post-transplant\n",
            "\n",
            "**Relevant Guidelines or Policies:**\n",
            "\n",
            "* Mayo Clinic's Post-Transplant Lymphoproliferative Disorder (PTLD) Monitoring & Treatment in Pediatric Liver Transplant Recipients Guideline (Rochester)\n",
            "\t+ This guideline provides recommendations for PTLD monitoring in pediatric liver transplant recipients, including the risk factors, monitoring intervals, and treatment strategies.\n",
            "\t+ The guideline emphasizes the importance of revisiting donor/recipient EBV status at every visit and adjusting the monitoring interval based on the patient's immunosuppression load.\n",
            "\n",
            "**Additional Considerations or Implications:**\n",
            "\n",
            "* The patient's high-risk status for PTLD necessitates close monitoring and prompt intervention in case of EBV PCR positivity.\n",
            "* The patient's age and immunosuppression load should be taken into consideration when adjusting the monitoring interval.\n",
            "* The guideline recommends consulting the Pediatric Infectious Diseases Service and reducing immunosuppression in case of EBV PCR positivity.\n",
            "* The patient should be evaluated for PTLD, as clinically indicated, and a biopsy may be necessary to confirm the diagnosis.\n",
            "* The patient's EBV serology should be rechecked at 1 year post-transplant and annually until positive.\n",
            "******************************\n",
            "Source Document: /content/drive/MyDrive/Mayo_LT/Pediatrics/Peds_LT_IFD.pdf\n"
          ]
        }
      ]
    },
    {
      "cell_type": "code",
      "source": [
        "query = \"A 60 year old patient is newly diagnosed with multifocal hepatocellular carcinoma. Imaging shows 3 lesions measuring 4cm, 3cm, and 2cm. There are no metastasis or portal vein invasion. AFP is 2000. Is he eligible for MELD exception?\"\n",
        "response = qa_chain.invoke({\"query\": query})\n",
        "print(response[\"result\"])\n",
        "print(\"*\"*30)\n",
        "print(\"Source Document:\", response[\"source_documents\"][0].metadata[\"source\"])"
      ],
      "metadata": {
        "id": "mclu5NgD6ipl",
        "outputId": "b2313260-2626-4634-bfa5-2b530e9ab5e7",
        "colab": {
          "base_uri": "https://localhost:8080/"
        }
      },
      "id": "mclu5NgD6ipl",
      "execution_count": null,
      "outputs": [
        {
          "output_type": "stream",
          "name": "stdout",
          "text": [
            "**Comprehensive Answer**\n",
            "\n",
            "The patient in question has multifocal hepatocellular carcinoma (HCC) with three lesions measuring 4cm, 3cm, and 2cm, and an alpha-fetoprotein (AFP) level of 2000 ng/mL. To determine eligibility for a Model for End-Stage Liver Disease (MELD) exception, we need to assess whether the patient meets the criteria for a standardized MELD exception for HCC.\n",
            "\n",
            "According to the OPTN Policy 9 Allocation of Livers and Liver-Intestines (Effective Date: 5/29/2024), a candidate with HCC is eligible for a standardized MELD exception if they meet the T2 stage criteria, which includes having an AFP level less than or equal to 1000 ng/mL. However, in this case, the patient's AFP level exceeds 1000 ng/mL, which means they do not meet the standard T2 stage criteria.\n",
            "\n",
            "However, the OPTN Policy also provides an exception for candidates with AFP levels greater than 1000 ng/mL. According to the policy, a candidate who has previously had an AFP level greater than 1000 ng/mL at any time must qualify for a standardized MELD or PELD exception according to the OPTN Policy for Candidates with Alpha-fetoprotein (AFP) Levels Greater than 1000.\n",
            "\n",
            "In this case, the patient's lesions meet the criteria for downstaging protocols, which include having two or three Class 5 lesions that meet specific size criteria. However, the patient's AFP level is still a concern, and the transplant program would need to submit additional documentation to support the exception request.\n",
            "\n",
            "**Key Points or Criteria**\n",
            "\n",
            "* The patient has multifocal HCC with three lesions measuring 4cm, 3cm, and 2cm.\n",
            "* The patient's AFP level is 2000 ng/mL, which exceeds the standard T2 stage criteria.\n",
            "* The patient's lesions meet the criteria for downstaging protocols.\n",
            "* The patient does not meet the standard T2 stage criteria due to the high AFP level.\n",
            "\n",
            "**Relevant Guidelines or Policies**\n",
            "\n",
            "* OPTN Policy 9 Allocation of Livers and Liver-Intestines (Effective Date: 5/29/2024)\n",
            "* OPTN Policy for Candidates with Alpha-fetoprotein (AFP) Levels Greater than 1000\n",
            "\n",
            "**Additional Considerations or Implications**\n",
            "\n",
            "* The transplant program will need to submit additional documentation to support the exception request, including imaging studies and documentation of the patient's AFP level.\n",
            "* The patient's AFP level will need to be closely monitored, and the transplant program will need to provide regular updates to the OPTN.\n",
            "* The patient's eligibility for a MELD exception will be reviewed on a case-by-case basis, and the transplant program will need to provide evidence that the patient meets the criteria for a standardized MELD exception.\n",
            "\n",
            "In summary, while the patient's lesions meet the criteria for downstaging protocols, the high AFP level is a concern, and the transplant program will need to submit additional documentation to support the exception request. The patient's eligibility for a MELD exception will be reviewed on a case-by-case basis, and the transplant program will need to provide evidence that the patient meets the criteria for a standardized MELD exception.\n",
            "******************************\n",
            "Source Document: /content/drive/MyDrive/Mayo_LT/DiseaseSpecific/PreLT_HCC.pdf\n"
          ]
        }
      ]
    },
    {
      "cell_type": "code",
      "source": [
        "query = \"My patient has received a liver transplant at another country 10 years ago. He remains on tacrolimus 4mg BID and prednisone 10mg daily. Tacrolimus trough is 8. He has no history of acute cellular rejection as far as he can recall. How should we adjust his medications according to Mayo Clinic's protocol? Be specific.\"\n",
        "response = qa_chain.invoke({\"query\": query})\n",
        "print(response[\"result\"])\n",
        "print(\"*\"*30)\n",
        "print(\"Source Document:\", response[\"source_documents\"][0].metadata[\"source\"])"
      ],
      "metadata": {
        "id": "-6KIsmeH6sRc",
        "outputId": "65830d1b-4e21-44c0-a363-f770da8fc3ae",
        "colab": {
          "base_uri": "https://localhost:8080/"
        }
      },
      "id": "-6KIsmeH6sRc",
      "execution_count": null,
      "outputs": [
        {
          "output_type": "stream",
          "name": "stdout",
          "text": [
            "**Comprehensive Answer**\n",
            "\n",
            "The patient in question has received a liver transplant 10 years ago and is currently on tacrolimus 4mg BID and prednisone 10mg daily, with a tacrolimus trough level of 8. Given that the patient has no history of acute cellular rejection, the primary goal is to adjust the immunosuppressive regimen to minimize long-term side effects while maintaining adequate immunosuppression.\n",
            "\n",
            "According to the Mayo Clinic's Pediatric Liver Recipient Immunosuppression Guideline (Rochester), the target tacrolimus trough levels for liver transplant recipients are as follows:\n",
            "\n",
            "* 1st 3 months: 10-12 ng/ml\n",
            "* Months 3-6: 8-10 ng/ml\n",
            "* 6-12 months: 5-7 ng/ml\n",
            "* After 1st year: 3-5 ng/ml\n",
            "\n",
            "Given that the patient is 10 years post-transplant, the target tacrolimus trough level would be 3-5 ng/ml. The current trough level of 8 is slightly above the target range, suggesting that the tacrolimus dose could be reduced.\n",
            "\n",
            "Regarding prednisone, the guideline recommends tapering and discontinuing corticosteroids by 4-12 months post-transplant. However, this patient has been on prednisone for 10 years, and tapering or discontinuing corticosteroids at this stage may not be feasible. Nevertheless, it is essential to consider the long-term side effects of corticosteroids and explore alternative immunosuppressive regimens.\n",
            "\n",
            "**Key Points or Criteria**\n",
            "\n",
            "* Target tacrolimus trough levels:\n",
            "\t+ 1st 3 months: 10-12 ng/ml\n",
            "\t+ Months 3-6: 8-10 ng/ml\n",
            "\t+ 6-12 months: 5-7 ng/ml\n",
            "\t+ After 1st year: 3-5 ng/ml\n",
            "* Current tacrolimus trough level: 8 ng/ml\n",
            "* Current prednisone dose: 10mg daily\n",
            "* Patient is 10 years post-transplant\n",
            "\n",
            "**Relevant Guidelines or Policies**\n",
            "\n",
            "* Mayo Clinic's Pediatric Liver Recipient Immunosuppression Guideline (Rochester)\n",
            "\t+ Provides recommendations for immunosuppression management in pediatric liver transplant recipients\n",
            "\t+ Includes target tacrolimus trough levels and corticosteroid tapering guidelines\n",
            "* Treatment of Rejection in Pediatric Liver Transplant Recipients Guideline (Rochester)\n",
            "\t+ Provides guidance for the treatment of biopsy-proven rejection in pediatric liver transplant recipients\n",
            "\t+ Includes recommendations for steroid pulse therapy and other treatment options\n",
            "\n",
            "**Additional Considerations or Implications**\n",
            "\n",
            "* Long-term side effects of corticosteroids, such as osteoporosis, diabetes, and hypertension, should be considered when managing this patient's immunosuppressive regimen.\n",
            "* Alternative immunosuppressive regimens, such as mycophenolate mofetil or azathioprine, may be considered to reduce the patient's reliance on corticosteroids.\n",
            "* Regular monitoring of liver function tests, tacrolimus trough levels, and other laboratory parameters is essential to ensure the patient's safety and adjust the immunosuppressive regimen as needed.\n",
            "******************************\n",
            "Source Document: /content/drive/MyDrive/Mayo_LT/Pediatrics/Peds_Immunosuppression.pdf\n"
          ]
        }
      ]
    },
    {
      "cell_type": "code",
      "source": [
        "query = \"A 46 year old male with acute alcohol-related hepatitis is critically ill with MELD score of 40. This is his first episode of liver decompensation. He has a supportive wife. He does have a history of polysubstance abuse but expresses commitment to lifelong abstinence. What is his eligibility for liver transplant at Mayo Clinic?\"\n",
        "response = qa_chain.invoke({\"query\": query})\n",
        "print(response[\"result\"])\n",
        "print(\"*\"*30)\n",
        "print(\"Source Document:\", response[\"source_documents\"][0].metadata[\"source\"])"
      ],
      "metadata": {
        "id": "62m440I96-5N",
        "outputId": "2ca3879b-d4f3-450f-a3a1-f5f1cf46ddf1",
        "colab": {
          "base_uri": "https://localhost:8080/"
        }
      },
      "id": "62m440I96-5N",
      "execution_count": null,
      "outputs": [
        {
          "output_type": "stream",
          "name": "stdout",
          "text": [
            "**Comprehensive Answer to the Query**\n",
            "\n",
            "The patient in question, a 46-year-old male with acute alcohol-related hepatitis, is critically ill with a MELD score of 40. This is his first episode of liver decompensation, and he has a supportive wife. Although he has a history of polysubstance abuse, he expresses commitment to lifelong abstinence. To determine his eligibility for liver transplant at Mayo Clinic, we must evaluate his case against the Liver Transplant Acute Alcohol Related Hepatitis Guideline.\n",
            "\n",
            "The patient meets some of the initial screening criteria, including a clinical diagnosis of alcohol-related hepatitis, a high risk of mortality (MELD score ≥ 20), and a first decompensating event related to liver disease. He also has an identifiable sober support system and expresses commitment to lifelong abstinence. However, his history of polysubstance abuse is a concern, as the guideline specifies \"no evidence of polysubstance abuse\" as a criterion for consideration.\n",
            "\n",
            "Despite this, the guideline emphasizes that these criteria are recommendations rather than rigid rules and can be modified using professional judgment. Therefore, the patient's case would be presented to the Liver Transplant Selection Committee for further evaluation.\n",
            "\n",
            "**Key Points or Criteria**\n",
            "\n",
            "* MELD score: 40 (meets the criterion of ≥ 20)\n",
            "* First decompensating event related to liver disease\n",
            "* Identifiable sober support system\n",
            "* Expresses commitment to lifelong abstinence\n",
            "* History of polysubstance abuse (may be a concern)\n",
            "* Lille score (not provided, but would be evaluated at day 4-7)\n",
            "\n",
            "**Relevant Guidelines or Policies**\n",
            "\n",
            "* Liver Transplant Acute Alcohol Related Hepatitis Guideline (Arizona, Florida, Rochester)\n",
            "\t+ Provides criteria for initial screening and assessment of patients with acute alcohol-related hepatitis\n",
            "\t+ Emphasizes the importance of a multidisciplinary approach and individualized evaluation\n",
            "* Transplant Solid Organ Candidate Psychosocial Assessment Guideline (Arizona, Florida, and Rochester)\n",
            "\t+ Provides a framework for psychosocial assessment of transplant candidates\n",
            "\n",
            "**Additional Considerations or Implications**\n",
            "\n",
            "* The patient's history of polysubstance abuse may impact his eligibility for liver transplant, but the guideline allows for flexibility in decision-making.\n",
            "* The Lille score, which evaluates the patient's response to medical therapy, would be an important factor in determining his candidacy for transplant.\n",
            "* The patient's commitment to lifelong abstinence and his supportive wife are positive factors in his evaluation.\n",
            "* The Liver Transplant Selection Committee would consider all aspects of the patient's case, including his medical and psychosocial evaluation, before making a decision on his candidacy for transplant.\n",
            "******************************\n",
            "Source Document: /content/drive/MyDrive/Mayo_LT/DiseaseSpecific/LT_AH.pdf\n"
          ]
        }
      ]
    },
    {
      "cell_type": "code",
      "source": [
        "query = \"Please provide the complete list of pre-transplant infectious diease evaluation in pediatric patients.\"\n",
        "response = qa_chain.invoke({\"query\": query})\n",
        "print(response[\"result\"])\n",
        "print(\"*\"*30)\n",
        "print(\"Source Document:\", response[\"source_documents\"][0].metadata[\"source\"])"
      ],
      "metadata": {
        "id": "09J_sYuT7dau",
        "outputId": "15ee0582-f652-4a6f-9399-12a3539d399a",
        "colab": {
          "base_uri": "https://localhost:8080/"
        }
      },
      "id": "09J_sYuT7dau",
      "execution_count": null,
      "outputs": [
        {
          "output_type": "stream",
          "name": "stdout",
          "text": [
            "**Comprehensive Answer:**\n",
            "\n",
            "The pre-transplant infectious disease evaluation in pediatric patients is a crucial step in the liver transplant process. According to the Pediatric Liver Transplant Infectious Diseases Guideline - Rochester, all liver transplant candidates must undergo a comprehensive serological evaluation to assess their immune status and risk of infectious diseases.\n",
            "\n",
            "The guideline recommends the following serologies and pre-transplant testing for all liver transplant candidates:\n",
            "\n",
            "* CMV (IgG only)\n",
            "* HSV 1/2 (IgG only)\n",
            "* VZV, Measles, Mumps, and Rubella (IgG only)\n",
            "* EBV (Antibody profile – EBV VCA IgG/IgM and EBNA)\n",
            "* HIV 1/2 antibody/antigen screen\n",
            "* Hepatitis B surface antigen (HBsAg)\n",
            "* Hepatitis B core antibody (total HBcAb)\n",
            "* Hepatitis B surface antibody (HBsAb)\n",
            "* Hepatitis C antibody (HCV Ab)\n",
            "* Hepatitis C ribonucleic acid (RNA) by nucleic acid test (NAT)\n",
            "* Syphilis IgG\n",
            "* Hepatitis A (IgG only)\n",
            "* Toxoplasma (IgG only)\n",
            "* Anterior nares swab for MRSA PCR\n",
            "\n",
            "Additionally, for selected liver transplant candidates, the guideline recommends the following tests:\n",
            "\n",
            "* Immunoglobulin G (IgG)\n",
            "* Immunoglobulin M (IgM)\n",
            "* Immunoglobulin A (IgA)\n",
            "* Vitamin A\n",
            "* Vitamin E\n",
            "* 1,25-Dihydroxy Vitamin D\n",
            "* Ceruloplasmin (only for patients >3 years old and if not done previously)\n",
            "* Alpha 1 Antitrypsin Phenotype (only if not done previously)\n",
            "* MRSA Nasal Swab\n",
            "* Gamma-Glutamyltransferase (GGT)\n",
            "* Urine tests (UA with Micro, urine culture, bacteria, and creatinine)\n",
            "* GI pathogen panel, PCR (only if symptomatic)\n",
            "\n",
            "**Key Points/Criteria:**\n",
            "\n",
            "* All liver transplant candidates must undergo a comprehensive serological evaluation.\n",
            "* Serologic testing should be repeated annually and just prior to transplant if the patient is seronegative for any organism at the time of initial evaluation.\n",
            "* Additional tests are recommended for selected liver transplant candidates, including immunoglobulin levels, vitamin levels, and ceruloplasmin.\n",
            "* Patients >3 years old should undergo Alpha 1 Antitrypsin Phenotype testing if not done previously.\n",
            "\n",
            "**Relevant Guidelines/Policies:**\n",
            "\n",
            "* Pediatric Liver Transplant Infectious Diseases Guideline - Rochester (document ID: 1112)\n",
            "\t+ This guideline provides recommendations for infectious disease testing and prophylaxis management in liver transplant candidates, recipients, and donors.\n",
            "\t+ It outlines the required serologies and pre-transplant testing for all liver transplant candidates and additional tests for selected candidates.\n",
            "\n",
            "**Additional Considerations/Implications:**\n",
            "\n",
            "* The pre-transplant infectious disease evaluation is crucial in assessing the patient's immune status and risk of infectious diseases.\n",
            "* The results of these tests will guide the development of a personalized prophylaxis plan to prevent infectious complications post-transplant.\n",
            "* It is essential to follow the recommended testing schedule and to repeat testing as necessary to ensure the patient's safety and optimal outcomes.\n",
            "* The guideline emphasizes the importance of professional judgment and adaptability in applying these recommendations to individual patient situations.\n",
            "******************************\n",
            "Source Document: /content/drive/MyDrive/Mayo_LT/Pediatrics/Peds_LT_IFD.pdf\n"
          ]
        }
      ]
    },
    {
      "cell_type": "code",
      "source": [
        "query = \"For liver transplant patients with Roux-en-Y anatomy who undergo a liver biopsy, what are the prophylactic antibiotics of choice?\"\n",
        "response = qa_chain.invoke({\"query\": query})\n",
        "print(response[\"result\"])\n",
        "print(\"*\"*30)\n",
        "print(\"Source Document:\", response[\"source_documents\"][0].metadata[\"source\"])"
      ],
      "metadata": {
        "id": "STiL0H0U8CeP",
        "outputId": "ecec1c95-a122-4ef3-9cbb-c408732c5193",
        "colab": {
          "base_uri": "https://localhost:8080/"
        }
      },
      "id": "STiL0H0U8CeP",
      "execution_count": null,
      "outputs": [
        {
          "output_type": "stream",
          "name": "stdout",
          "text": [
            "**Comprehensive Answer**\n",
            "\n",
            "For liver transplant patients with Roux-en-Y anatomy who undergo a liver biopsy, the use of prophylactic antibiotics is crucial to prevent sepsis. According to the guidelines, patients with a history of Roux-en-Y or Choledochoduodenostomy anastomosis or prior sphincterotomy are at increased risk of sepsis and require antibiotic therapy.\n",
            "\n",
            "The recommended antibiotic of choice is ciprofloxacin, which should be administered orally at a dose of 500 mg every 12 hours for 2 doses, starting 1 hour prior to the procedure. If the patient is unable to take oral medication, ciprofloxacin 400 mg intravenous may be used with the same frequency and duration.\n",
            "\n",
            "**Key Points or Criteria**\n",
            "\n",
            "* Patients with a history of Roux-en-Y or Choledochoduodenostomy anastomosis or prior sphincterotomy require antibiotic therapy.\n",
            "* Ciprofloxacin 500 mg oral q 12 hours x 2 doses starting 1 hour prior to procedure is the recommended antibiotic regimen.\n",
            "* If unable to take oral, ciprofloxacin 400 mg intravenous may be used with the same frequency and duration.\n",
            "* Extension of antibiotic therapy may be considered per proceduralist's preference and/or procedural findings.\n",
            "\n",
            "**Relevant Guidelines or Policies**\n",
            "\n",
            "* The Liver Biopsy guideline, which outlines the medication management, hematologic parameters, and antibiotic therapy requirements for liver biopsy procedures.\n",
            "* The CMS Condition of Participation §482.94 Patient and Living Donor Management, which emphasizes the importance of antibiotic therapy in preventing sepsis.\n",
            "\n",
            "**Additional Considerations or Implications**\n",
            "\n",
            "* It is essential to consult the ordering physician for further advisement if the patient has a history of vascular diagnoses (e.g., A-fib, thromboses) or if the patient is unable to discontinue ASA or NSAIDs prior to the procedure.\n",
            "* The patient's hematologic parameters, including hemoglobin, platelets, and INR, should be evaluated prior to the procedure, and transfusions may be required if these parameters are outside the recommended ranges.\n",
            "* The proceduralist's preference and/or procedural findings may influence the extension of antibiotic therapy, and this should be considered on a case-by-case basis.\n",
            "******************************\n",
            "Source Document: /content/drive/MyDrive/Mayo_LT/PostLT/PostLT_Procedures.pdf\n"
          ]
        }
      ]
    },
    {
      "cell_type": "code",
      "source": [
        "query = \"For liver transplant patients with Roux-en-Y anatomy who undergo a liver biopsy, what are the prophylactic antibiotics of choice?\"\n",
        "response = qa_chain.invoke({\"query\": query})\n",
        "print(response[\"result\"])\n",
        "print(\"*\"*30)\n",
        "print(\"Source Document:\", response[\"source_documents\"][0].metadata[\"source\"])"
      ],
      "metadata": {
        "id": "7UPMJYMN-Gvj"
      },
      "id": "7UPMJYMN-Gvj",
      "execution_count": null,
      "outputs": []
    }
  ],
  "metadata": {
    "kernelspec": {
      "display_name": "Python 3 (ipykernel)",
      "language": "python",
      "name": "python3"
    },
    "language_info": {
      "codemirror_mode": {
        "name": "ipython",
        "version": 3
      },
      "file_extension": ".py",
      "mimetype": "text/x-python",
      "name": "python",
      "nbconvert_exporter": "python",
      "pygments_lexer": "ipython3",
      "version": "3.10.12"
    },
    "colab": {
      "provenance": []
    }
  },
  "nbformat": 4,
  "nbformat_minor": 5
}
